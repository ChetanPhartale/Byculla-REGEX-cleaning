{
  "nbformat": 4,
  "nbformat_minor": 0,
  "metadata": {
    "colab": {
      "provenance": []
    },
    "kernelspec": {
      "name": "python3",
      "display_name": "Python 3"
    },
    "language_info": {
      "name": "python"
    }
  },
  "cells": [
    {
      "cell_type": "code",
      "execution_count": null,
      "metadata": {
        "id": "rbnoSEpwgxss"
      },
      "outputs": [],
      "source": [
        "import pandas as pd\n",
        "import numpy as np"
      ]
    },
    {
      "cell_type": "code",
      "source": [
        "data = pd.read_excel(r\"/content/drive/MyDrive/data/final_byculla_v3.xlsx\")\n",
        "data\n"
      ],
      "metadata": {
        "colab": {
          "base_uri": "https://localhost:8080/",
          "height": 424
        },
        "id": "lKvmDxp7hgyg",
        "outputId": "c5d93861-1df8-48a6-bb9d-2c5631596cd6"
      },
      "execution_count": null,
      "outputs": [
        {
          "output_type": "execute_result",
          "data": {
            "text/plain": [
              "       Unnamed: 0   Record ID  \\\n",
              "0           66960  IGRMHDW4TN   \n",
              "1           66964  IGRMUPFR2D   \n",
              "2           66981  IGRMX3ZMUO   \n",
              "3           67014  IGRM85KT4D   \n",
              "4           67028  IGRMPZHVD6   \n",
              "...           ...         ...   \n",
              "37970      894960  IGRM0ZDPCG   \n",
              "37971      895299  IGRMLMC8HH   \n",
              "37972      895334  IGRMNMCCXH   \n",
              "37973      895417  IGRMPON7QD   \n",
              "37974      895487  IGRM1GTSO3   \n",
              "\n",
              "                                      Land building info              cts  \n",
              "0      पालिकेचे नाव:इतर वर्णन :सि एस नं 1840 पार्ट, स...              NaN  \n",
              "1      पालिकेचे नाव:इतर वर्णन :जमिन व बांधकाम , टेापी...              NaN  \n",
              "2      पालिकेचे नाव:इतर वर्णन :डिलाईल रेाड क्रॉस लेन ...              NaN  \n",
              "3      पालिकेचे नाव:इतर वर्णन :सि एस नं 1310, क्षेत्र...              NaN  \n",
              "4      पालिकेचे नाव:इतर वर्णन :सदनिका नं 501, 5 वा मज...  1971 मध्दे आहे.  \n",
              "...                                                  ...              ...  \n",
              "37970  1)पालिकेचे नाव:मुंबई मनपाइतर वर्णन :, इतर  माह...             1902  \n",
              "37971  1)पालिकेचे नाव:मुंबई मनपाइतर वर्णन :, इतर  माह...              137  \n",
              "37972  1)पालिकेचे नाव:मुंबई मनपाइतर वर्णन :सदनिका नं:...              000  \n",
              "37973  1)पालिकेचे नाव:मुंबई मनपाइतर वर्णन :सदनिका नं:...             1910  \n",
              "37974  1)पालिकेचे नाव:मुंबई मनपाइतर वर्णन :, इतर  माह...             1960  \n",
              "\n",
              "[37975 rows x 4 columns]"
            ],
            "text/html": [
              "\n",
              "  <div id=\"df-a8a1d2db-eaae-4747-b772-7a969a8a692c\" class=\"colab-df-container\">\n",
              "    <div>\n",
              "<style scoped>\n",
              "    .dataframe tbody tr th:only-of-type {\n",
              "        vertical-align: middle;\n",
              "    }\n",
              "\n",
              "    .dataframe tbody tr th {\n",
              "        vertical-align: top;\n",
              "    }\n",
              "\n",
              "    .dataframe thead th {\n",
              "        text-align: right;\n",
              "    }\n",
              "</style>\n",
              "<table border=\"1\" class=\"dataframe\">\n",
              "  <thead>\n",
              "    <tr style=\"text-align: right;\">\n",
              "      <th></th>\n",
              "      <th>Unnamed: 0</th>\n",
              "      <th>Record ID</th>\n",
              "      <th>Land building info</th>\n",
              "      <th>cts</th>\n",
              "    </tr>\n",
              "  </thead>\n",
              "  <tbody>\n",
              "    <tr>\n",
              "      <th>0</th>\n",
              "      <td>66960</td>\n",
              "      <td>IGRMHDW4TN</td>\n",
              "      <td>पालिकेचे नाव:इतर वर्णन :सि एस नं 1840 पार्ट, स...</td>\n",
              "      <td>NaN</td>\n",
              "    </tr>\n",
              "    <tr>\n",
              "      <th>1</th>\n",
              "      <td>66964</td>\n",
              "      <td>IGRMUPFR2D</td>\n",
              "      <td>पालिकेचे नाव:इतर वर्णन :जमिन व बांधकाम , टेापी...</td>\n",
              "      <td>NaN</td>\n",
              "    </tr>\n",
              "    <tr>\n",
              "      <th>2</th>\n",
              "      <td>66981</td>\n",
              "      <td>IGRMX3ZMUO</td>\n",
              "      <td>पालिकेचे नाव:इतर वर्णन :डिलाईल रेाड क्रॉस लेन ...</td>\n",
              "      <td>NaN</td>\n",
              "    </tr>\n",
              "    <tr>\n",
              "      <th>3</th>\n",
              "      <td>67014</td>\n",
              "      <td>IGRM85KT4D</td>\n",
              "      <td>पालिकेचे नाव:इतर वर्णन :सि एस नं 1310, क्षेत्र...</td>\n",
              "      <td>NaN</td>\n",
              "    </tr>\n",
              "    <tr>\n",
              "      <th>4</th>\n",
              "      <td>67028</td>\n",
              "      <td>IGRMPZHVD6</td>\n",
              "      <td>पालिकेचे नाव:इतर वर्णन :सदनिका नं 501, 5 वा मज...</td>\n",
              "      <td>1971 मध्दे आहे.</td>\n",
              "    </tr>\n",
              "    <tr>\n",
              "      <th>...</th>\n",
              "      <td>...</td>\n",
              "      <td>...</td>\n",
              "      <td>...</td>\n",
              "      <td>...</td>\n",
              "    </tr>\n",
              "    <tr>\n",
              "      <th>37970</th>\n",
              "      <td>894960</td>\n",
              "      <td>IGRM0ZDPCG</td>\n",
              "      <td>1)पालिकेचे नाव:मुंबई मनपाइतर वर्णन :, इतर  माह...</td>\n",
              "      <td>1902</td>\n",
              "    </tr>\n",
              "    <tr>\n",
              "      <th>37971</th>\n",
              "      <td>895299</td>\n",
              "      <td>IGRMLMC8HH</td>\n",
              "      <td>1)पालिकेचे नाव:मुंबई मनपाइतर वर्णन :, इतर  माह...</td>\n",
              "      <td>137</td>\n",
              "    </tr>\n",
              "    <tr>\n",
              "      <th>37972</th>\n",
              "      <td>895334</td>\n",
              "      <td>IGRMNMCCXH</td>\n",
              "      <td>1)पालिकेचे नाव:मुंबई मनपाइतर वर्णन :सदनिका नं:...</td>\n",
              "      <td>000</td>\n",
              "    </tr>\n",
              "    <tr>\n",
              "      <th>37973</th>\n",
              "      <td>895417</td>\n",
              "      <td>IGRMPON7QD</td>\n",
              "      <td>1)पालिकेचे नाव:मुंबई मनपाइतर वर्णन :सदनिका नं:...</td>\n",
              "      <td>1910</td>\n",
              "    </tr>\n",
              "    <tr>\n",
              "      <th>37974</th>\n",
              "      <td>895487</td>\n",
              "      <td>IGRM1GTSO3</td>\n",
              "      <td>1)पालिकेचे नाव:मुंबई मनपाइतर वर्णन :, इतर  माह...</td>\n",
              "      <td>1960</td>\n",
              "    </tr>\n",
              "  </tbody>\n",
              "</table>\n",
              "<p>37975 rows × 4 columns</p>\n",
              "</div>\n",
              "    <div class=\"colab-df-buttons\">\n",
              "\n",
              "  <div class=\"colab-df-container\">\n",
              "    <button class=\"colab-df-convert\" onclick=\"convertToInteractive('df-a8a1d2db-eaae-4747-b772-7a969a8a692c')\"\n",
              "            title=\"Convert this dataframe to an interactive table.\"\n",
              "            style=\"display:none;\">\n",
              "\n",
              "  <svg xmlns=\"http://www.w3.org/2000/svg\" height=\"24px\" viewBox=\"0 -960 960 960\">\n",
              "    <path d=\"M120-120v-720h720v720H120Zm60-500h600v-160H180v160Zm220 220h160v-160H400v160Zm0 220h160v-160H400v160ZM180-400h160v-160H180v160Zm440 0h160v-160H620v160ZM180-180h160v-160H180v160Zm440 0h160v-160H620v160Z\"/>\n",
              "  </svg>\n",
              "    </button>\n",
              "\n",
              "  <style>\n",
              "    .colab-df-container {\n",
              "      display:flex;\n",
              "      gap: 12px;\n",
              "    }\n",
              "\n",
              "    .colab-df-convert {\n",
              "      background-color: #E8F0FE;\n",
              "      border: none;\n",
              "      border-radius: 50%;\n",
              "      cursor: pointer;\n",
              "      display: none;\n",
              "      fill: #1967D2;\n",
              "      height: 32px;\n",
              "      padding: 0 0 0 0;\n",
              "      width: 32px;\n",
              "    }\n",
              "\n",
              "    .colab-df-convert:hover {\n",
              "      background-color: #E2EBFA;\n",
              "      box-shadow: 0px 1px 2px rgba(60, 64, 67, 0.3), 0px 1px 3px 1px rgba(60, 64, 67, 0.15);\n",
              "      fill: #174EA6;\n",
              "    }\n",
              "\n",
              "    .colab-df-buttons div {\n",
              "      margin-bottom: 4px;\n",
              "    }\n",
              "\n",
              "    [theme=dark] .colab-df-convert {\n",
              "      background-color: #3B4455;\n",
              "      fill: #D2E3FC;\n",
              "    }\n",
              "\n",
              "    [theme=dark] .colab-df-convert:hover {\n",
              "      background-color: #434B5C;\n",
              "      box-shadow: 0px 1px 3px 1px rgba(0, 0, 0, 0.15);\n",
              "      filter: drop-shadow(0px 1px 2px rgba(0, 0, 0, 0.3));\n",
              "      fill: #FFFFFF;\n",
              "    }\n",
              "  </style>\n",
              "\n",
              "    <script>\n",
              "      const buttonEl =\n",
              "        document.querySelector('#df-a8a1d2db-eaae-4747-b772-7a969a8a692c button.colab-df-convert');\n",
              "      buttonEl.style.display =\n",
              "        google.colab.kernel.accessAllowed ? 'block' : 'none';\n",
              "\n",
              "      async function convertToInteractive(key) {\n",
              "        const element = document.querySelector('#df-a8a1d2db-eaae-4747-b772-7a969a8a692c');\n",
              "        const dataTable =\n",
              "          await google.colab.kernel.invokeFunction('convertToInteractive',\n",
              "                                                    [key], {});\n",
              "        if (!dataTable) return;\n",
              "\n",
              "        const docLinkHtml = 'Like what you see? Visit the ' +\n",
              "          '<a target=\"_blank\" href=https://colab.research.google.com/notebooks/data_table.ipynb>data table notebook</a>'\n",
              "          + ' to learn more about interactive tables.';\n",
              "        element.innerHTML = '';\n",
              "        dataTable['output_type'] = 'display_data';\n",
              "        await google.colab.output.renderOutput(dataTable, element);\n",
              "        const docLink = document.createElement('div');\n",
              "        docLink.innerHTML = docLinkHtml;\n",
              "        element.appendChild(docLink);\n",
              "      }\n",
              "    </script>\n",
              "  </div>\n",
              "\n",
              "\n",
              "<div id=\"df-a669b033-a2c6-4df4-93f3-7b91d9db38eb\">\n",
              "  <button class=\"colab-df-quickchart\" onclick=\"quickchart('df-a669b033-a2c6-4df4-93f3-7b91d9db38eb')\"\n",
              "            title=\"Suggest charts.\"\n",
              "            style=\"display:none;\">\n",
              "\n",
              "<svg xmlns=\"http://www.w3.org/2000/svg\" height=\"24px\"viewBox=\"0 0 24 24\"\n",
              "     width=\"24px\">\n",
              "    <g>\n",
              "        <path d=\"M19 3H5c-1.1 0-2 .9-2 2v14c0 1.1.9 2 2 2h14c1.1 0 2-.9 2-2V5c0-1.1-.9-2-2-2zM9 17H7v-7h2v7zm4 0h-2V7h2v10zm4 0h-2v-4h2v4z\"/>\n",
              "    </g>\n",
              "</svg>\n",
              "  </button>\n",
              "\n",
              "<style>\n",
              "  .colab-df-quickchart {\n",
              "      --bg-color: #E8F0FE;\n",
              "      --fill-color: #1967D2;\n",
              "      --hover-bg-color: #E2EBFA;\n",
              "      --hover-fill-color: #174EA6;\n",
              "      --disabled-fill-color: #AAA;\n",
              "      --disabled-bg-color: #DDD;\n",
              "  }\n",
              "\n",
              "  [theme=dark] .colab-df-quickchart {\n",
              "      --bg-color: #3B4455;\n",
              "      --fill-color: #D2E3FC;\n",
              "      --hover-bg-color: #434B5C;\n",
              "      --hover-fill-color: #FFFFFF;\n",
              "      --disabled-bg-color: #3B4455;\n",
              "      --disabled-fill-color: #666;\n",
              "  }\n",
              "\n",
              "  .colab-df-quickchart {\n",
              "    background-color: var(--bg-color);\n",
              "    border: none;\n",
              "    border-radius: 50%;\n",
              "    cursor: pointer;\n",
              "    display: none;\n",
              "    fill: var(--fill-color);\n",
              "    height: 32px;\n",
              "    padding: 0;\n",
              "    width: 32px;\n",
              "  }\n",
              "\n",
              "  .colab-df-quickchart:hover {\n",
              "    background-color: var(--hover-bg-color);\n",
              "    box-shadow: 0 1px 2px rgba(60, 64, 67, 0.3), 0 1px 3px 1px rgba(60, 64, 67, 0.15);\n",
              "    fill: var(--button-hover-fill-color);\n",
              "  }\n",
              "\n",
              "  .colab-df-quickchart-complete:disabled,\n",
              "  .colab-df-quickchart-complete:disabled:hover {\n",
              "    background-color: var(--disabled-bg-color);\n",
              "    fill: var(--disabled-fill-color);\n",
              "    box-shadow: none;\n",
              "  }\n",
              "\n",
              "  .colab-df-spinner {\n",
              "    border: 2px solid var(--fill-color);\n",
              "    border-color: transparent;\n",
              "    border-bottom-color: var(--fill-color);\n",
              "    animation:\n",
              "      spin 1s steps(1) infinite;\n",
              "  }\n",
              "\n",
              "  @keyframes spin {\n",
              "    0% {\n",
              "      border-color: transparent;\n",
              "      border-bottom-color: var(--fill-color);\n",
              "      border-left-color: var(--fill-color);\n",
              "    }\n",
              "    20% {\n",
              "      border-color: transparent;\n",
              "      border-left-color: var(--fill-color);\n",
              "      border-top-color: var(--fill-color);\n",
              "    }\n",
              "    30% {\n",
              "      border-color: transparent;\n",
              "      border-left-color: var(--fill-color);\n",
              "      border-top-color: var(--fill-color);\n",
              "      border-right-color: var(--fill-color);\n",
              "    }\n",
              "    40% {\n",
              "      border-color: transparent;\n",
              "      border-right-color: var(--fill-color);\n",
              "      border-top-color: var(--fill-color);\n",
              "    }\n",
              "    60% {\n",
              "      border-color: transparent;\n",
              "      border-right-color: var(--fill-color);\n",
              "    }\n",
              "    80% {\n",
              "      border-color: transparent;\n",
              "      border-right-color: var(--fill-color);\n",
              "      border-bottom-color: var(--fill-color);\n",
              "    }\n",
              "    90% {\n",
              "      border-color: transparent;\n",
              "      border-bottom-color: var(--fill-color);\n",
              "    }\n",
              "  }\n",
              "</style>\n",
              "\n",
              "  <script>\n",
              "    async function quickchart(key) {\n",
              "      const quickchartButtonEl =\n",
              "        document.querySelector('#' + key + ' button');\n",
              "      quickchartButtonEl.disabled = true;  // To prevent multiple clicks.\n",
              "      quickchartButtonEl.classList.add('colab-df-spinner');\n",
              "      try {\n",
              "        const charts = await google.colab.kernel.invokeFunction(\n",
              "            'suggestCharts', [key], {});\n",
              "      } catch (error) {\n",
              "        console.error('Error during call to suggestCharts:', error);\n",
              "      }\n",
              "      quickchartButtonEl.classList.remove('colab-df-spinner');\n",
              "      quickchartButtonEl.classList.add('colab-df-quickchart-complete');\n",
              "    }\n",
              "    (() => {\n",
              "      let quickchartButtonEl =\n",
              "        document.querySelector('#df-a669b033-a2c6-4df4-93f3-7b91d9db38eb button');\n",
              "      quickchartButtonEl.style.display =\n",
              "        google.colab.kernel.accessAllowed ? 'block' : 'none';\n",
              "    })();\n",
              "  </script>\n",
              "</div>\n",
              "    </div>\n",
              "  </div>\n"
            ]
          },
          "metadata": {},
          "execution_count": 1082
        }
      ]
    },
    {
      "cell_type": "code",
      "source": [
        "data2 = data"
      ],
      "metadata": {
        "id": "RlNf5xyDnpQ0"
      },
      "execution_count": null,
      "outputs": []
    },
    {
      "cell_type": "code",
      "source": [
        "data2 = pd.DataFrame(data2)\n",
        "data2['Land building info'] = data2['Land building info'].astype(str)"
      ],
      "metadata": {
        "id": "ZEnOl5RLnq6c"
      },
      "execution_count": null,
      "outputs": []
    },
    {
      "cell_type": "markdown",
      "source": [
        "CTS Left Cleaning____**"
      ],
      "metadata": {
        "id": "o8_HVXFCXz5x"
      }
    },
    {
      "cell_type": "code",
      "source": [
        "regex1 = r'सी\\s+टी\\s+एस\\s+नं\\s+' # सी टी एस नं  **\n",
        "regex2 = r'सी\\s+टी\\s+स\\s+नं\\s+'  # सी टी स नं  **\n",
        "regex3 = r'सि\\s+टी\\s+स\\s+नं\\s+'  # सि टी स नं  **\n",
        "regex4 = r'सि\\s+टी\\s+एस\\s+नं\\s+' # सि टी एस नं  **\n",
        "regex5 = r'सि\\s+एस\\s+नं\\s+'     #  सि एस नं  **\n",
        "regex6 = r'सिएस\\s+नं\\s+'        # सिएस नं  **\n",
        "regex7 = r'सिटीएस\\s+नं\\s+'       # सिटीएस नं  **\n",
        "regex8 = r'सिटीएस\\s+नंबर\\s+'     # सिटीएस नंबर  **\n",
        "regex9 = r'CTS\\s+Number\\s+'    # CTS Number  **\n",
        "regex10 = r'C.T.S. Number : (.*?);' # C.T.S. Number  **\n",
        "regex11 = r'सि.टी.एस.\\s+नंबर\\s+'     # सि.टी.एस. नंबर  **\n",
        "\n",
        "num_cells1 = data2[\"Land building info\"].str.count(regex1)\n",
        "num_cells2 = data2[\"Land building info\"].str.count(regex2)\n",
        "num_cells3 = data2[\"Land building info\"].str.count(regex3)\n",
        "num_cells4 = data2[\"Land building info\"].str.count(regex4)\n",
        "num_cells5 = data2[\"Land building info\"].str.count(regex5)\n",
        "num_cells6 = data2[\"Land building info\"].str.count(regex6)\n",
        "num_cells7 = data2[\"Land building info\"].str.count(regex7)\n",
        "num_cells8 = data2[\"Land building info\"].str.count(regex8)\n",
        "num_cells9 = data2[\"Land building info\"].str.count(regex9)\n",
        "num_cells10 = data2[\"Land building info\"].str.count(regex10)\n",
        "num_cells11 = data2[\"Land building info\"].str.count(regex11)\n",
        "\n",
        "print(num_cells1.sum())\n",
        "print(num_cells2.sum())\n",
        "print(num_cells3.sum())\n",
        "print(num_cells4.sum())\n",
        "print(num_cells5.sum())\n",
        "print(num_cells6.sum())\n",
        "print(num_cells7.sum())\n",
        "print(num_cells8.sum())\n",
        "print(num_cells9.sum())\n",
        "print(num_cells10.sum())\n",
        "print(num_cells11.sum())"
      ],
      "metadata": {
        "colab": {
          "base_uri": "https://localhost:8080/"
        },
        "id": "w4XPJWROoMy0",
        "outputId": "b6e153c5-31be-4d2f-de73-a1649b818f7a"
      },
      "execution_count": null,
      "outputs": [
        {
          "output_type": "stream",
          "name": "stdout",
          "text": [
            "24\n",
            "1\n",
            "0\n",
            "8\n",
            "2538\n",
            "56\n",
            "182\n",
            "0\n",
            "6\n",
            "23131\n",
            "177\n"
          ]
        }
      ]
    },
    {
      "cell_type": "code",
      "source": [
        "# re.search(r\"(?<=C.T.S. Number).*\",x))"
      ],
      "metadata": {
        "id": "RTlZFi_1qEhr"
      },
      "execution_count": null,
      "outputs": []
    },
    {
      "cell_type": "code",
      "source": [
        "import re\n",
        "\n",
        "def extract_cts_code10(text):\n",
        "\n",
        "  CTS_CODE_REGEX = r\"(?<=C.T.S. Number :).*\"\n",
        "  match = re.search(CTS_CODE_REGEX, text)\n",
        "  if match:\n",
        "    return match.group()\n",
        "  else:\n",
        "    return None\n",
        "\n",
        "# Example usage:\n",
        "#Corporation: Mumbai , Other details: Apartment/Flat No:602, Floor No:6TH FLOOR, C WING, Building Name:DEEPANKAR CHS, Block Sector:PRABHADEVI - 400025, Road:S L MATKAR MARG, City:Mahim, District:Mumbai,     C.T.S. Number : 295,  Leave and License Months:11\n",
        "text = \"(Corporation: Mumbai , Other details: Apartment/Flat No:602, Floor No:6TH FLOOR, C WING, Building Name:DEEPANKAR CHS, Block Sector:PRABHADEVI - 400025, Road:S L MATKAR MARG, City:Mahim, District:Mumbai,     C.T.S. Number : 295/423/353,  Leave and License Months:11)\"\n",
        "\n",
        "# Extract the CTS code\n",
        "cts_code = extract_cts_code10(text)\n",
        "\n",
        "# Print the CTS code to the console\n",
        "print(cts_code)"
      ],
      "metadata": {
        "colab": {
          "base_uri": "https://localhost:8080/"
        },
        "id": "GLu63_SKqUtC",
        "outputId": "83f860ce-fe9e-4f47-eebe-33ddfe0b9a56"
      },
      "execution_count": null,
      "outputs": [
        {
          "output_type": "stream",
          "name": "stdout",
          "text": [
            " 295/423/353,  Leave and License Months:11)\n"
          ]
        }
      ]
    },
    {
      "cell_type": "code",
      "source": [
        "data2[\"CTS10\"] = data2['Land building info'].apply(extract_cts_code10)\n",
        "\n",
        "data2 = data2.assign(final_cts=None)\n",
        "data2['final_cts'] = data2['final_cts'].fillna(data2[\"CTS10\"])\n"
      ],
      "metadata": {
        "id": "0EYgUvrVvuqy"
      },
      "execution_count": null,
      "outputs": []
    },
    {
      "cell_type": "code",
      "source": [
        "def extract_cts_code5(text):\n",
        "\n",
        "  CTS_CODE_REGEX = r\"(?<=सि एस नं).*\"\n",
        "  match = re.search(CTS_CODE_REGEX, text)\n",
        "  if match:\n",
        "    return match.group()\n",
        "  else:\n",
        "    return None\n",
        "\n",
        "# Example usage:\n",
        "#Corporation: Mumbai , Other details: Apartment/Flat No:602, Floor No:6TH FLOOR, C WING, Building Name:DEEPANKAR CHS, Block Sector:PRABHADEVI - 400025, Road:S L MATKAR MARG, City:Mahim, District:Mumbai,     C.T.S. Number : 295,  Leave and License Months:11\n",
        "text = \"(Corporation: Mumbai , Other details: Apartment/Flat No:602, Floor No:6TH FLOOR, C WING, Building Name:DEEPANKAR CHS, Block Sector:PRABHADEVI - 400025, Road:S L MATKAR MARG, City:Mahim, District:Mumbai,     C.T.S. Number : 295/423/353,  Leave and License Months:11)\"\n",
        "\n",
        "# Extract the CTS code\n",
        "cts_code = extract_cts_code5(text)\n",
        "\n",
        "# Print the CTS code to the console\n",
        "print(cts_code)"
      ],
      "metadata": {
        "colab": {
          "base_uri": "https://localhost:8080/"
        },
        "id": "kr25khMIwQfJ",
        "outputId": "ede5991e-ba79-49e7-ba82-9dcc55ef0dd9"
      },
      "execution_count": null,
      "outputs": [
        {
          "output_type": "stream",
          "name": "stdout",
          "text": [
            "None\n"
          ]
        }
      ]
    },
    {
      "cell_type": "code",
      "source": [
        "data2[\"CTS5\"] = data2['Land building info'].apply(extract_cts_code5)\n",
        "\n",
        "#data2 = data2.assign(final_cts=None)\n",
        "data2['final_cts'] = data2['final_cts'].fillna(data2[\"CTS5\"])\n"
      ],
      "metadata": {
        "id": "ooYkKdoFxAMv"
      },
      "execution_count": null,
      "outputs": []
    },
    {
      "cell_type": "code",
      "source": [
        "data2"
      ],
      "metadata": {
        "colab": {
          "base_uri": "https://localhost:8080/",
          "height": 424
        },
        "id": "nB-028RhRiXg",
        "outputId": "91209a77-a1ba-4891-e6d2-07180f0d3bf4"
      },
      "execution_count": null,
      "outputs": [
        {
          "output_type": "execute_result",
          "data": {
            "text/plain": [
              "       Unnamed: 0   Record ID  \\\n",
              "0           66960  IGRMHDW4TN   \n",
              "1           66964  IGRMUPFR2D   \n",
              "2           66981  IGRMX3ZMUO   \n",
              "3           67014  IGRM85KT4D   \n",
              "4           67028  IGRMPZHVD6   \n",
              "...           ...         ...   \n",
              "37970      894960  IGRM0ZDPCG   \n",
              "37971      895299  IGRMLMC8HH   \n",
              "37972      895334  IGRMNMCCXH   \n",
              "37973      895417  IGRMPON7QD   \n",
              "37974      895487  IGRM1GTSO3   \n",
              "\n",
              "                                      Land building info              cts  \\\n",
              "0      पालिकेचे नाव:इतर वर्णन :सि एस नं 1840 पार्ट, स...              NaN   \n",
              "1      पालिकेचे नाव:इतर वर्णन :जमिन व बांधकाम , टेापी...              NaN   \n",
              "2      पालिकेचे नाव:इतर वर्णन :डिलाईल रेाड क्रॉस लेन ...              NaN   \n",
              "3      पालिकेचे नाव:इतर वर्णन :सि एस नं 1310, क्षेत्र...              NaN   \n",
              "4      पालिकेचे नाव:इतर वर्णन :सदनिका नं 501, 5 वा मज...  1971 मध्दे आहे.   \n",
              "...                                                  ...              ...   \n",
              "37970  1)पालिकेचे नाव:मुंबई मनपाइतर वर्णन :, इतर  माह...             1902   \n",
              "37971  1)पालिकेचे नाव:मुंबई मनपाइतर वर्णन :, इतर  माह...              137   \n",
              "37972  1)पालिकेचे नाव:मुंबई मनपाइतर वर्णन :सदनिका नं:...              000   \n",
              "37973  1)पालिकेचे नाव:मुंबई मनपाइतर वर्णन :सदनिका नं:...             1910   \n",
              "37974  1)पालिकेचे नाव:मुंबई मनपाइतर वर्णन :, इतर  माह...             1960   \n",
              "\n",
              "               CTS10                                          final_cts  \\\n",
              "0               None   1840 पार्ट, सी ओ एस एम/ ए वाय/ 38/08 भरलेले म...   \n",
              "1               None                                               None   \n",
              "2               None                                               None   \n",
              "3               None   1310, क्षेत्र 90.30चौ मि  जमिन व बांधकाम टोपी...   \n",
              "4               None                                               None   \n",
              "...              ...                                                ...   \n",
              "37970   1902 ;  )  )                                       1902 ;  )  )   \n",
              "37971    137 ;  )  )                                        137 ;  )  )   \n",
              "37972    000 ;  )  )                                        000 ;  )  )   \n",
              "37973   1910 ;  )  )                                       1910 ;  )  )   \n",
              "37974   1960 ;  )  )                                       1960 ;  )  )   \n",
              "\n",
              "                                                    CTS5  \n",
              "0       1840 पार्ट, सी ओ एस एम/ ए वाय/ 38/08 भरलेले म...  \n",
              "1                                                   None  \n",
              "2                                                   None  \n",
              "3       1310, क्षेत्र 90.30चौ मि  जमिन व बांधकाम टोपी...  \n",
              "4                                                   None  \n",
              "...                                                  ...  \n",
              "37970                                               None  \n",
              "37971                                               None  \n",
              "37972                                               None  \n",
              "37973                                               None  \n",
              "37974                                               None  \n",
              "\n",
              "[37975 rows x 7 columns]"
            ],
            "text/html": [
              "\n",
              "  <div id=\"df-225aa68d-7eab-470c-9843-ec28d718d16b\" class=\"colab-df-container\">\n",
              "    <div>\n",
              "<style scoped>\n",
              "    .dataframe tbody tr th:only-of-type {\n",
              "        vertical-align: middle;\n",
              "    }\n",
              "\n",
              "    .dataframe tbody tr th {\n",
              "        vertical-align: top;\n",
              "    }\n",
              "\n",
              "    .dataframe thead th {\n",
              "        text-align: right;\n",
              "    }\n",
              "</style>\n",
              "<table border=\"1\" class=\"dataframe\">\n",
              "  <thead>\n",
              "    <tr style=\"text-align: right;\">\n",
              "      <th></th>\n",
              "      <th>Unnamed: 0</th>\n",
              "      <th>Record ID</th>\n",
              "      <th>Land building info</th>\n",
              "      <th>cts</th>\n",
              "      <th>CTS10</th>\n",
              "      <th>final_cts</th>\n",
              "      <th>CTS5</th>\n",
              "    </tr>\n",
              "  </thead>\n",
              "  <tbody>\n",
              "    <tr>\n",
              "      <th>0</th>\n",
              "      <td>66960</td>\n",
              "      <td>IGRMHDW4TN</td>\n",
              "      <td>पालिकेचे नाव:इतर वर्णन :सि एस नं 1840 पार्ट, स...</td>\n",
              "      <td>NaN</td>\n",
              "      <td>None</td>\n",
              "      <td>1840 पार्ट, सी ओ एस एम/ ए वाय/ 38/08 भरलेले म...</td>\n",
              "      <td>1840 पार्ट, सी ओ एस एम/ ए वाय/ 38/08 भरलेले म...</td>\n",
              "    </tr>\n",
              "    <tr>\n",
              "      <th>1</th>\n",
              "      <td>66964</td>\n",
              "      <td>IGRMUPFR2D</td>\n",
              "      <td>पालिकेचे नाव:इतर वर्णन :जमिन व बांधकाम , टेापी...</td>\n",
              "      <td>NaN</td>\n",
              "      <td>None</td>\n",
              "      <td>None</td>\n",
              "      <td>None</td>\n",
              "    </tr>\n",
              "    <tr>\n",
              "      <th>2</th>\n",
              "      <td>66981</td>\n",
              "      <td>IGRMX3ZMUO</td>\n",
              "      <td>पालिकेचे नाव:इतर वर्णन :डिलाईल रेाड क्रॉस लेन ...</td>\n",
              "      <td>NaN</td>\n",
              "      <td>None</td>\n",
              "      <td>None</td>\n",
              "      <td>None</td>\n",
              "    </tr>\n",
              "    <tr>\n",
              "      <th>3</th>\n",
              "      <td>67014</td>\n",
              "      <td>IGRM85KT4D</td>\n",
              "      <td>पालिकेचे नाव:इतर वर्णन :सि एस नं 1310, क्षेत्र...</td>\n",
              "      <td>NaN</td>\n",
              "      <td>None</td>\n",
              "      <td>1310, क्षेत्र 90.30चौ मि  जमिन व बांधकाम टोपी...</td>\n",
              "      <td>1310, क्षेत्र 90.30चौ मि  जमिन व बांधकाम टोपी...</td>\n",
              "    </tr>\n",
              "    <tr>\n",
              "      <th>4</th>\n",
              "      <td>67028</td>\n",
              "      <td>IGRMPZHVD6</td>\n",
              "      <td>पालिकेचे नाव:इतर वर्णन :सदनिका नं 501, 5 वा मज...</td>\n",
              "      <td>1971 मध्दे आहे.</td>\n",
              "      <td>None</td>\n",
              "      <td>None</td>\n",
              "      <td>None</td>\n",
              "    </tr>\n",
              "    <tr>\n",
              "      <th>...</th>\n",
              "      <td>...</td>\n",
              "      <td>...</td>\n",
              "      <td>...</td>\n",
              "      <td>...</td>\n",
              "      <td>...</td>\n",
              "      <td>...</td>\n",
              "      <td>...</td>\n",
              "    </tr>\n",
              "    <tr>\n",
              "      <th>37970</th>\n",
              "      <td>894960</td>\n",
              "      <td>IGRM0ZDPCG</td>\n",
              "      <td>1)पालिकेचे नाव:मुंबई मनपाइतर वर्णन :, इतर  माह...</td>\n",
              "      <td>1902</td>\n",
              "      <td>1902 ;  )  )</td>\n",
              "      <td>1902 ;  )  )</td>\n",
              "      <td>None</td>\n",
              "    </tr>\n",
              "    <tr>\n",
              "      <th>37971</th>\n",
              "      <td>895299</td>\n",
              "      <td>IGRMLMC8HH</td>\n",
              "      <td>1)पालिकेचे नाव:मुंबई मनपाइतर वर्णन :, इतर  माह...</td>\n",
              "      <td>137</td>\n",
              "      <td>137 ;  )  )</td>\n",
              "      <td>137 ;  )  )</td>\n",
              "      <td>None</td>\n",
              "    </tr>\n",
              "    <tr>\n",
              "      <th>37972</th>\n",
              "      <td>895334</td>\n",
              "      <td>IGRMNMCCXH</td>\n",
              "      <td>1)पालिकेचे नाव:मुंबई मनपाइतर वर्णन :सदनिका नं:...</td>\n",
              "      <td>000</td>\n",
              "      <td>000 ;  )  )</td>\n",
              "      <td>000 ;  )  )</td>\n",
              "      <td>None</td>\n",
              "    </tr>\n",
              "    <tr>\n",
              "      <th>37973</th>\n",
              "      <td>895417</td>\n",
              "      <td>IGRMPON7QD</td>\n",
              "      <td>1)पालिकेचे नाव:मुंबई मनपाइतर वर्णन :सदनिका नं:...</td>\n",
              "      <td>1910</td>\n",
              "      <td>1910 ;  )  )</td>\n",
              "      <td>1910 ;  )  )</td>\n",
              "      <td>None</td>\n",
              "    </tr>\n",
              "    <tr>\n",
              "      <th>37974</th>\n",
              "      <td>895487</td>\n",
              "      <td>IGRM1GTSO3</td>\n",
              "      <td>1)पालिकेचे नाव:मुंबई मनपाइतर वर्णन :, इतर  माह...</td>\n",
              "      <td>1960</td>\n",
              "      <td>1960 ;  )  )</td>\n",
              "      <td>1960 ;  )  )</td>\n",
              "      <td>None</td>\n",
              "    </tr>\n",
              "  </tbody>\n",
              "</table>\n",
              "<p>37975 rows × 7 columns</p>\n",
              "</div>\n",
              "    <div class=\"colab-df-buttons\">\n",
              "\n",
              "  <div class=\"colab-df-container\">\n",
              "    <button class=\"colab-df-convert\" onclick=\"convertToInteractive('df-225aa68d-7eab-470c-9843-ec28d718d16b')\"\n",
              "            title=\"Convert this dataframe to an interactive table.\"\n",
              "            style=\"display:none;\">\n",
              "\n",
              "  <svg xmlns=\"http://www.w3.org/2000/svg\" height=\"24px\" viewBox=\"0 -960 960 960\">\n",
              "    <path d=\"M120-120v-720h720v720H120Zm60-500h600v-160H180v160Zm220 220h160v-160H400v160Zm0 220h160v-160H400v160ZM180-400h160v-160H180v160Zm440 0h160v-160H620v160ZM180-180h160v-160H180v160Zm440 0h160v-160H620v160Z\"/>\n",
              "  </svg>\n",
              "    </button>\n",
              "\n",
              "  <style>\n",
              "    .colab-df-container {\n",
              "      display:flex;\n",
              "      gap: 12px;\n",
              "    }\n",
              "\n",
              "    .colab-df-convert {\n",
              "      background-color: #E8F0FE;\n",
              "      border: none;\n",
              "      border-radius: 50%;\n",
              "      cursor: pointer;\n",
              "      display: none;\n",
              "      fill: #1967D2;\n",
              "      height: 32px;\n",
              "      padding: 0 0 0 0;\n",
              "      width: 32px;\n",
              "    }\n",
              "\n",
              "    .colab-df-convert:hover {\n",
              "      background-color: #E2EBFA;\n",
              "      box-shadow: 0px 1px 2px rgba(60, 64, 67, 0.3), 0px 1px 3px 1px rgba(60, 64, 67, 0.15);\n",
              "      fill: #174EA6;\n",
              "    }\n",
              "\n",
              "    .colab-df-buttons div {\n",
              "      margin-bottom: 4px;\n",
              "    }\n",
              "\n",
              "    [theme=dark] .colab-df-convert {\n",
              "      background-color: #3B4455;\n",
              "      fill: #D2E3FC;\n",
              "    }\n",
              "\n",
              "    [theme=dark] .colab-df-convert:hover {\n",
              "      background-color: #434B5C;\n",
              "      box-shadow: 0px 1px 3px 1px rgba(0, 0, 0, 0.15);\n",
              "      filter: drop-shadow(0px 1px 2px rgba(0, 0, 0, 0.3));\n",
              "      fill: #FFFFFF;\n",
              "    }\n",
              "  </style>\n",
              "\n",
              "    <script>\n",
              "      const buttonEl =\n",
              "        document.querySelector('#df-225aa68d-7eab-470c-9843-ec28d718d16b button.colab-df-convert');\n",
              "      buttonEl.style.display =\n",
              "        google.colab.kernel.accessAllowed ? 'block' : 'none';\n",
              "\n",
              "      async function convertToInteractive(key) {\n",
              "        const element = document.querySelector('#df-225aa68d-7eab-470c-9843-ec28d718d16b');\n",
              "        const dataTable =\n",
              "          await google.colab.kernel.invokeFunction('convertToInteractive',\n",
              "                                                    [key], {});\n",
              "        if (!dataTable) return;\n",
              "\n",
              "        const docLinkHtml = 'Like what you see? Visit the ' +\n",
              "          '<a target=\"_blank\" href=https://colab.research.google.com/notebooks/data_table.ipynb>data table notebook</a>'\n",
              "          + ' to learn more about interactive tables.';\n",
              "        element.innerHTML = '';\n",
              "        dataTable['output_type'] = 'display_data';\n",
              "        await google.colab.output.renderOutput(dataTable, element);\n",
              "        const docLink = document.createElement('div');\n",
              "        docLink.innerHTML = docLinkHtml;\n",
              "        element.appendChild(docLink);\n",
              "      }\n",
              "    </script>\n",
              "  </div>\n",
              "\n",
              "\n",
              "<div id=\"df-f8da4f4f-d042-4b3a-9ef5-69fb77aa2881\">\n",
              "  <button class=\"colab-df-quickchart\" onclick=\"quickchart('df-f8da4f4f-d042-4b3a-9ef5-69fb77aa2881')\"\n",
              "            title=\"Suggest charts.\"\n",
              "            style=\"display:none;\">\n",
              "\n",
              "<svg xmlns=\"http://www.w3.org/2000/svg\" height=\"24px\"viewBox=\"0 0 24 24\"\n",
              "     width=\"24px\">\n",
              "    <g>\n",
              "        <path d=\"M19 3H5c-1.1 0-2 .9-2 2v14c0 1.1.9 2 2 2h14c1.1 0 2-.9 2-2V5c0-1.1-.9-2-2-2zM9 17H7v-7h2v7zm4 0h-2V7h2v10zm4 0h-2v-4h2v4z\"/>\n",
              "    </g>\n",
              "</svg>\n",
              "  </button>\n",
              "\n",
              "<style>\n",
              "  .colab-df-quickchart {\n",
              "      --bg-color: #E8F0FE;\n",
              "      --fill-color: #1967D2;\n",
              "      --hover-bg-color: #E2EBFA;\n",
              "      --hover-fill-color: #174EA6;\n",
              "      --disabled-fill-color: #AAA;\n",
              "      --disabled-bg-color: #DDD;\n",
              "  }\n",
              "\n",
              "  [theme=dark] .colab-df-quickchart {\n",
              "      --bg-color: #3B4455;\n",
              "      --fill-color: #D2E3FC;\n",
              "      --hover-bg-color: #434B5C;\n",
              "      --hover-fill-color: #FFFFFF;\n",
              "      --disabled-bg-color: #3B4455;\n",
              "      --disabled-fill-color: #666;\n",
              "  }\n",
              "\n",
              "  .colab-df-quickchart {\n",
              "    background-color: var(--bg-color);\n",
              "    border: none;\n",
              "    border-radius: 50%;\n",
              "    cursor: pointer;\n",
              "    display: none;\n",
              "    fill: var(--fill-color);\n",
              "    height: 32px;\n",
              "    padding: 0;\n",
              "    width: 32px;\n",
              "  }\n",
              "\n",
              "  .colab-df-quickchart:hover {\n",
              "    background-color: var(--hover-bg-color);\n",
              "    box-shadow: 0 1px 2px rgba(60, 64, 67, 0.3), 0 1px 3px 1px rgba(60, 64, 67, 0.15);\n",
              "    fill: var(--button-hover-fill-color);\n",
              "  }\n",
              "\n",
              "  .colab-df-quickchart-complete:disabled,\n",
              "  .colab-df-quickchart-complete:disabled:hover {\n",
              "    background-color: var(--disabled-bg-color);\n",
              "    fill: var(--disabled-fill-color);\n",
              "    box-shadow: none;\n",
              "  }\n",
              "\n",
              "  .colab-df-spinner {\n",
              "    border: 2px solid var(--fill-color);\n",
              "    border-color: transparent;\n",
              "    border-bottom-color: var(--fill-color);\n",
              "    animation:\n",
              "      spin 1s steps(1) infinite;\n",
              "  }\n",
              "\n",
              "  @keyframes spin {\n",
              "    0% {\n",
              "      border-color: transparent;\n",
              "      border-bottom-color: var(--fill-color);\n",
              "      border-left-color: var(--fill-color);\n",
              "    }\n",
              "    20% {\n",
              "      border-color: transparent;\n",
              "      border-left-color: var(--fill-color);\n",
              "      border-top-color: var(--fill-color);\n",
              "    }\n",
              "    30% {\n",
              "      border-color: transparent;\n",
              "      border-left-color: var(--fill-color);\n",
              "      border-top-color: var(--fill-color);\n",
              "      border-right-color: var(--fill-color);\n",
              "    }\n",
              "    40% {\n",
              "      border-color: transparent;\n",
              "      border-right-color: var(--fill-color);\n",
              "      border-top-color: var(--fill-color);\n",
              "    }\n",
              "    60% {\n",
              "      border-color: transparent;\n",
              "      border-right-color: var(--fill-color);\n",
              "    }\n",
              "    80% {\n",
              "      border-color: transparent;\n",
              "      border-right-color: var(--fill-color);\n",
              "      border-bottom-color: var(--fill-color);\n",
              "    }\n",
              "    90% {\n",
              "      border-color: transparent;\n",
              "      border-bottom-color: var(--fill-color);\n",
              "    }\n",
              "  }\n",
              "</style>\n",
              "\n",
              "  <script>\n",
              "    async function quickchart(key) {\n",
              "      const quickchartButtonEl =\n",
              "        document.querySelector('#' + key + ' button');\n",
              "      quickchartButtonEl.disabled = true;  // To prevent multiple clicks.\n",
              "      quickchartButtonEl.classList.add('colab-df-spinner');\n",
              "      try {\n",
              "        const charts = await google.colab.kernel.invokeFunction(\n",
              "            'suggestCharts', [key], {});\n",
              "      } catch (error) {\n",
              "        console.error('Error during call to suggestCharts:', error);\n",
              "      }\n",
              "      quickchartButtonEl.classList.remove('colab-df-spinner');\n",
              "      quickchartButtonEl.classList.add('colab-df-quickchart-complete');\n",
              "    }\n",
              "    (() => {\n",
              "      let quickchartButtonEl =\n",
              "        document.querySelector('#df-f8da4f4f-d042-4b3a-9ef5-69fb77aa2881 button');\n",
              "      quickchartButtonEl.style.display =\n",
              "        google.colab.kernel.accessAllowed ? 'block' : 'none';\n",
              "    })();\n",
              "  </script>\n",
              "</div>\n",
              "    </div>\n",
              "  </div>\n"
            ]
          },
          "metadata": {},
          "execution_count": 1091
        }
      ]
    },
    {
      "cell_type": "code",
      "source": [
        "def extract_cts_code7(text):\n",
        "\n",
        "  CTS_CODE_REGEX = r\"(?<=सिटीएस नं).*\"\n",
        "  match = re.search(CTS_CODE_REGEX, text)\n",
        "  if match:\n",
        "    return match.group()\n",
        "  else:\n",
        "    return None\n",
        "\n",
        "# Example usage:\n",
        "#Corporation: Mumbai , Other details: Apartment/Flat No:602, Floor No:6TH FLOOR, C WING, Building Name:DEEPANKAR CHS, Block Sector:PRABHADEVI - 400025, Road:S L MATKAR MARG, City:Mahim, District:Mumbai,     C.T.S. Number : 295,  Leave and License Months:11\n",
        "text = \"(Corporation: Mumbai , Other details: Apartment/Flat No:602, Floor No:6TH FLOOR, C WING, Building Name:DEEPANKAR CHS, Block Sector:PRABHADEVI - 400025, Road:S L MATKAR MARG, City:Mahim, District:Mumbai,     C.T.S. Number : 295/423/353,  Leave and License Months:11)\"\n",
        "\n",
        "# Extract the CTS code\n",
        "cts_code = extract_cts_code7(text)\n",
        "\n",
        "# Print the CTS code to the console\n",
        "print(cts_code)"
      ],
      "metadata": {
        "colab": {
          "base_uri": "https://localhost:8080/"
        },
        "id": "6gYvaATLxZHH",
        "outputId": "4aa9a365-b1c8-489d-9ca3-02c213025102"
      },
      "execution_count": null,
      "outputs": [
        {
          "output_type": "stream",
          "name": "stdout",
          "text": [
            "None\n"
          ]
        }
      ]
    },
    {
      "cell_type": "code",
      "source": [
        "data2[\"CTS7\"] = data2['Land building info'].apply(extract_cts_code7)\n",
        "\n",
        "#data2 = data2.assign(final_cts=None)\n",
        "data2['final_cts'] = data2['final_cts'].fillna(data2[\"CTS7\"])"
      ],
      "metadata": {
        "id": "EQsepJGGxtQI"
      },
      "execution_count": null,
      "outputs": []
    },
    {
      "cell_type": "code",
      "source": [
        "def extract_cts_code11(text):\n",
        "\n",
        "  CTS_CODE_REGEX = r\"(?<=सि.टी.एस. नंबर).*\"\n",
        "  match = re.search(CTS_CODE_REGEX, text)\n",
        "  if match:\n",
        "    return match.group()\n",
        "  else:\n",
        "    return None\n",
        "\n",
        "# Example usage:\n",
        "#Corporation: Mumbai , Other details: Apartment/Flat No:602, Floor No:6TH FLOOR, C WING, Building Name:DEEPANKAR CHS, Block Sector:PRABHADEVI - 400025, Road:S L MATKAR MARG, City:Mahim, District:Mumbai,     C.T.S. Number : 295,  Leave and License Months:11\n",
        "text = \"(Corporation: Mumbai , Other details: Apartment/Flat No:602, Floor No:6TH FLOOR, C WING, Building Name:DEEPANKAR CHS, Block Sector:PRABHADEVI - 400025, Road:S L MATKAR MARG, City:Mahim, District:Mumbai,     C.T.S. Number : 295/423/353,  Leave and License Months:11)\"\n",
        "\n",
        "# Extract the CTS code\n",
        "cts_code = extract_cts_code11(text)\n",
        "\n",
        "# Print the CTS code to the console\n",
        "print(cts_code)"
      ],
      "metadata": {
        "colab": {
          "base_uri": "https://localhost:8080/"
        },
        "id": "87eGkxOvx0Pv",
        "outputId": "1f24afcc-d7de-41a6-ebbe-4734df362c7c"
      },
      "execution_count": null,
      "outputs": [
        {
          "output_type": "stream",
          "name": "stdout",
          "text": [
            "None\n"
          ]
        }
      ]
    },
    {
      "cell_type": "code",
      "source": [
        "data2[\"CTS11\"] = data2['Land building info'].apply(extract_cts_code11)\n",
        "\n",
        "#data2 = data2.assign(final_cts=None)\n",
        "data2['final_cts'] = data2['final_cts'].fillna(data2[\"CTS11\"])"
      ],
      "metadata": {
        "id": "7j3tXG0XyAi3"
      },
      "execution_count": null,
      "outputs": []
    },
    {
      "cell_type": "code",
      "source": [
        "def extract_cts_code6(text):\n",
        "\n",
        "  CTS_CODE_REGEX = r\"(?<=सिएस नं).*\"\n",
        "  match = re.search(CTS_CODE_REGEX, text)\n",
        "  if match:\n",
        "    return match.group()\n",
        "  else:\n",
        "    return None\n",
        "\n",
        "# Example usage:\n",
        "#Corporation: Mumbai , Other details: Apartment/Flat No:602, Floor No:6TH FLOOR, C WING, Building Name:DEEPANKAR CHS, Block Sector:PRABHADEVI - 400025, Road:S L MATKAR MARG, City:Mahim, District:Mumbai,     C.T.S. Number : 295,  Leave and License Months:11\n",
        "text = \"(Corporation: Mumbai , Other details: Apartment/Flat No:602, Floor No:6TH FLOOR, C WING, Building Name:DEEPANKAR CHS, Block Sector:PRABHADEVI - 400025, Road:S L MATKAR MARG, City:Mahim, District:Mumbai,     C.T.S. Number : 295/423/353,  Leave and License Months:11)\"\n",
        "\n",
        "# Extract the CTS code\n",
        "cts_code = extract_cts_code6(text)\n",
        "\n",
        "# Print the CTS code to the console\n",
        "print(cts_code)"
      ],
      "metadata": {
        "id": "KAr04AiGyGA-",
        "colab": {
          "base_uri": "https://localhost:8080/"
        },
        "outputId": "bb1a6d93-4746-4ba0-d2e7-fd0528c3f71e"
      },
      "execution_count": null,
      "outputs": [
        {
          "output_type": "stream",
          "name": "stdout",
          "text": [
            "None\n"
          ]
        }
      ]
    },
    {
      "cell_type": "code",
      "source": [
        "data2[\"CTS6\"] = data2['Land building info'].apply(extract_cts_code6)\n",
        "\n",
        "#data2 = data2.assign(final_cts=None)\n",
        "data2['final_cts'] = data2['final_cts'].fillna(data2[\"CTS6\"])"
      ],
      "metadata": {
        "id": "ImZ1sXSZOZeo"
      },
      "execution_count": null,
      "outputs": []
    },
    {
      "cell_type": "code",
      "source": [
        "def extract_cts_code1(text):\n",
        "\n",
        "  CTS_CODE_REGEX = r\"(?<=सी टी एस नं).*\"\n",
        "  match = re.search(CTS_CODE_REGEX, text)\n",
        "  if match:\n",
        "    return match.group()\n",
        "  else:\n",
        "    return None\n",
        "\n",
        "# Example usage:\n",
        "#Corporation: Mumbai , Other details: Apartment/Flat No:602, Floor No:6TH FLOOR, C WING, Building Name:DEEPANKAR CHS, Block Sector:PRABHADEVI - 400025, Road:S L MATKAR MARG, City:Mahim, District:Mumbai,     C.T.S. Number : 295,  Leave and License Months:11\n",
        "text = \"(Corporation: Mumbai , Other details: Apartment/Flat No:602, Floor No:6TH FLOOR, C WING, Building Name:DEEPANKAR CHS, Block Sector:PRABHADEVI - 400025, Road:S L MATKAR MARG, City:Mahim, District:Mumbai,     C.T.S. Number : 295/423/353,  Leave and License Months:11)\"\n",
        "\n",
        "# Extract the CTS code\n",
        "cts_code = extract_cts_code1(text)\n",
        "\n",
        "# Print the CTS code to the console\n",
        "print(cts_code)"
      ],
      "metadata": {
        "colab": {
          "base_uri": "https://localhost:8080/"
        },
        "id": "b3ZcRHezOv9B",
        "outputId": "ffdb6e37-ef92-4c4e-d299-8d070cc82a29"
      },
      "execution_count": null,
      "outputs": [
        {
          "output_type": "stream",
          "name": "stdout",
          "text": [
            "None\n"
          ]
        }
      ]
    },
    {
      "cell_type": "code",
      "source": [
        "data2[\"CTS1\"] = data2['Land building info'].apply(extract_cts_code1)\n",
        "\n",
        "#data2 = data2.assign(final_cts=None)\n",
        "data2['final_cts'] = data2['final_cts'].fillna(data2[\"CTS1\"])"
      ],
      "metadata": {
        "id": "Y-3CmmWEOykf"
      },
      "execution_count": null,
      "outputs": []
    },
    {
      "cell_type": "code",
      "source": [
        "def extract_cts_code3(text):\n",
        "\n",
        "  CTS_CODE_REGEX = r\"(?<=सि टी स नं).*\"\n",
        "  match = re.search(CTS_CODE_REGEX, text)\n",
        "  if match:\n",
        "    return match.group()\n",
        "  else:\n",
        "    return None\n",
        "\n",
        "# Example usage:\n",
        "#Corporation: Mumbai , Other details: Apartment/Flat No:602, Floor No:6TH FLOOR, C WING, Building Name:DEEPANKAR CHS, Block Sector:PRABHADEVI - 400025, Road:S L MATKAR MARG, City:Mahim, District:Mumbai,     C.T.S. Number : 295,  Leave and License Months:11\n",
        "text = \"(Corporation: Mumbai , Other details: Apartment/Flat No:602, Floor No:6TH FLOOR, C WING, Building Name:DEEPANKAR CHS, Block Sector:PRABHADEVI - 400025, Road:S L MATKAR MARG, City:Mahim, District:Mumbai,     C.T.S. Number : 295/423/353,  Leave and License Months:11)\"\n",
        "\n",
        "# Extract the CTS code\n",
        "cts_code = extract_cts_code3(text)\n",
        "\n",
        "# Print the CTS code to the console\n",
        "print(cts_code)"
      ],
      "metadata": {
        "colab": {
          "base_uri": "https://localhost:8080/"
        },
        "id": "1p3fJ--9PFNw",
        "outputId": "b007f820-4a08-4a8a-8be6-bf256b7eb14c"
      },
      "execution_count": null,
      "outputs": [
        {
          "output_type": "stream",
          "name": "stdout",
          "text": [
            "None\n"
          ]
        }
      ]
    },
    {
      "cell_type": "code",
      "source": [
        "data2[\"CTS3\"] = data2['Land building info'].apply(extract_cts_code3)\n",
        "\n",
        "#data2 = data2.assign(final_cts=None)\n",
        "data2['final_cts'] = data2['final_cts'].fillna(data2[\"CTS3\"])"
      ],
      "metadata": {
        "id": "GCVr5pjSPSaf"
      },
      "execution_count": null,
      "outputs": []
    },
    {
      "cell_type": "code",
      "source": [
        "def extract_cts_code9(text):\n",
        "\n",
        "  CTS_CODE_REGEX = r\"(?<=CTS Number).*\"\n",
        "  match = re.search(CTS_CODE_REGEX, text)\n",
        "  if match:\n",
        "    return match.group()\n",
        "  else:\n",
        "    return None\n",
        "\n",
        "# Example usage:\n",
        "#Corporation: Mumbai , Other details: Apartment/Flat No:602, Floor No:6TH FLOOR, C WING, Building Name:DEEPANKAR CHS, Block Sector:PRABHADEVI - 400025, Road:S L MATKAR MARG, City:Mahim, District:Mumbai,     C.T.S. Number : 295,  Leave and License Months:11\n",
        "text = \"(Corporation: Mumbai , Other details: Apartment/Flat No:602, Floor No:6TH FLOOR, C WING, Building Name:DEEPANKAR CHS, Block Sector:PRABHADEVI - 400025, Road:S L MATKAR MARG, City:Mahim, District:Mumbai,     C.T.S. Number : 295/423/353,  Leave and License Months:11)\"\n",
        "\n",
        "# Extract the CTS code\n",
        "cts_code = extract_cts_code9(text)\n",
        "\n",
        "# Print the CTS code to the console\n",
        "print(cts_code)"
      ],
      "metadata": {
        "colab": {
          "base_uri": "https://localhost:8080/"
        },
        "id": "zqP_LHf8PK0X",
        "outputId": "52071664-2e52-4c05-9cda-ddf3ee1fc5a6"
      },
      "execution_count": null,
      "outputs": [
        {
          "output_type": "stream",
          "name": "stdout",
          "text": [
            "None\n"
          ]
        }
      ]
    },
    {
      "cell_type": "code",
      "source": [
        "data2[\"CTS9\"] = data2['Land building info'].apply(extract_cts_code9)\n",
        "\n",
        "#data2 = data2.assign(final_cts=None)\n",
        "data2['final_cts'] = data2['final_cts'].fillna(data2[\"CTS9\"])"
      ],
      "metadata": {
        "id": "Ma2wJGbRPxKv"
      },
      "execution_count": null,
      "outputs": []
    },
    {
      "cell_type": "code",
      "source": [
        "def extract_cts_code2(text):\n",
        "\n",
        "  CTS_CODE_REGEX = r\"(?<=सी टी स नं).*\"\n",
        "  match = re.search(CTS_CODE_REGEX, text)\n",
        "  if match:\n",
        "    return match.group()\n",
        "  else:\n",
        "    return None\n",
        "\n",
        "# Example usage:\n",
        "#Corporation: Mumbai , Other details: Apartment/Flat No:602, Floor No:6TH FLOOR, C WING, Building Name:DEEPANKAR CHS, Block Sector:PRABHADEVI - 400025, Road:S L MATKAR MARG, City:Mahim, District:Mumbai,     C.T.S. Number : 295,  Leave and License Months:11\n",
        "text = \"(Corporation: Mumbai , Other details: Apartment/Flat No:602, Floor No:6TH FLOOR, C WING, Building Name:DEEPANKAR CHS, Block Sector:PRABHADEVI - 400025, Road:S L MATKAR MARG, City:Mahim, District:Mumbai,     C.T.S. Number : 295/423/353,  Leave and License Months:11)\"\n",
        "\n",
        "# Extract the CTS code\n",
        "cts_code = extract_cts_code2(text)\n",
        "\n",
        "# Print the CTS code to the console\n",
        "print(cts_code)"
      ],
      "metadata": {
        "colab": {
          "base_uri": "https://localhost:8080/"
        },
        "id": "4rPESydEP4_-",
        "outputId": "dcbeafa8-a385-480b-d855-92f9ecd7fc63"
      },
      "execution_count": null,
      "outputs": [
        {
          "output_type": "stream",
          "name": "stdout",
          "text": [
            "None\n"
          ]
        }
      ]
    },
    {
      "cell_type": "code",
      "source": [
        "data2[\"CTS2\"] = data2['Land building info'].apply(extract_cts_code2)\n",
        "\n",
        "#data2 = data2.assign(final_cts=None)\n",
        "data2['final_cts'] = data2['final_cts'].fillna(data2[\"CTS2\"])"
      ],
      "metadata": {
        "id": "TCJMtLd2QO-_"
      },
      "execution_count": null,
      "outputs": []
    },
    {
      "cell_type": "code",
      "source": [
        "def extract_cts_code4(text):\n",
        "\n",
        "  CTS_CODE_REGEX = r\"(?<=सि टी एस नं).*\"\n",
        "  match = re.search(CTS_CODE_REGEX, text)\n",
        "  if match:\n",
        "    return match.group()\n",
        "  else:\n",
        "    return None\n",
        "\n",
        "# Example usage:\n",
        "#Corporation: Mumbai , Other details: Apartment/Flat No:602, Floor No:6TH FLOOR, C WING, Building Name:DEEPANKAR CHS, Block Sector:PRABHADEVI - 400025, Road:S L MATKAR MARG, City:Mahim, District:Mumbai,     C.T.S. Number : 295,  Leave and License Months:11\n",
        "text = \"(Corporation: Mumbai , Other details: Apartment/Flat No:602, Floor No:6TH FLOOR, C WING, Building Name:DEEPANKAR CHS, Block Sector:PRABHADEVI - 400025, Road:S L MATKAR MARG, City:Mahim, District:Mumbai,     C.T.S. Number : 295/423/353,  Leave and License Months:11)\"\n",
        "\n",
        "# Extract the CTS code\n",
        "cts_code = extract_cts_code4(text)\n",
        "\n",
        "# Print the CTS code to the console\n",
        "print(cts_code)"
      ],
      "metadata": {
        "colab": {
          "base_uri": "https://localhost:8080/"
        },
        "id": "DnnEDrzLQSsX",
        "outputId": "df0a4725-0dbe-4a03-ddd5-dd779b00862d"
      },
      "execution_count": null,
      "outputs": [
        {
          "output_type": "stream",
          "name": "stdout",
          "text": [
            "None\n"
          ]
        }
      ]
    },
    {
      "cell_type": "code",
      "source": [
        "data2[\"CTS4\"] = data2['Land building info'].apply(extract_cts_code4)\n",
        "\n",
        "#data2 = data2.assign(final_cts=None)\n",
        "data2['final_cts'] = data2['final_cts'].fillna(data2[\"CTS4\"])"
      ],
      "metadata": {
        "id": "HG_uYMRlQlc4"
      },
      "execution_count": null,
      "outputs": []
    },
    {
      "cell_type": "code",
      "source": [
        "def extract_cts_code8(text):\n",
        "\n",
        "  CTS_CODE_REGEX = r\"(?<=सिटीएस नंबर).*\"\n",
        "  match = re.search(CTS_CODE_REGEX, text)\n",
        "  if match:\n",
        "    return match.group()\n",
        "  else:\n",
        "    return None\n",
        "\n",
        "# Example usage:\n",
        "#Corporation: Mumbai , Other details: Apartment/Flat No:602, Floor No:6TH FLOOR, C WING, Building Name:DEEPANKAR CHS, Block Sector:PRABHADEVI - 400025, Road:S L MATKAR MARG, City:Mahim, District:Mumbai,     C.T.S. Number : 295,  Leave and License Months:11\n",
        "text = \"(Corporation: Mumbai , Other details: Apartment/Flat No:602, Floor No:6TH FLOOR, C WING, Building Name:DEEPANKAR CHS, Block Sector:PRABHADEVI - 400025, Road:S L MATKAR MARG, City:Mahim, District:Mumbai,     C.T.S. Number : 295/423/353,  Leave and License Months:11)\"\n",
        "\n",
        "# Extract the CTS code\n",
        "cts_code = extract_cts_code8(text)\n",
        "\n",
        "# Print the CTS code to the console\n",
        "print(cts_code)"
      ],
      "metadata": {
        "colab": {
          "base_uri": "https://localhost:8080/"
        },
        "id": "lDQ9h1D-Qq1w",
        "outputId": "658dc109-1e5e-4d19-f8bf-c41195473b24"
      },
      "execution_count": null,
      "outputs": [
        {
          "output_type": "stream",
          "name": "stdout",
          "text": [
            "None\n"
          ]
        }
      ]
    },
    {
      "cell_type": "code",
      "source": [
        "data2[\"CTS8\"] = data2['Land building info'].apply(extract_cts_code8)\n",
        "\n",
        "#data2 = data2.assign(final_cts=None)\n",
        "data2['final_cts'] = data2['final_cts'].fillna(data2[\"CTS8\"])"
      ],
      "metadata": {
        "id": "mtrs4Fd5Q1Zv"
      },
      "execution_count": null,
      "outputs": []
    },
    {
      "cell_type": "code",
      "source": [
        "data2"
      ],
      "metadata": {
        "colab": {
          "base_uri": "https://localhost:8080/",
          "height": 597
        },
        "id": "iLEJk-BbRGls",
        "outputId": "c147862e-5495-419d-ff1f-6226526fedb7"
      },
      "execution_count": null,
      "outputs": [
        {
          "output_type": "execute_result",
          "data": {
            "text/plain": [
              "       Unnamed: 0   Record ID  \\\n",
              "0           66960  IGRMHDW4TN   \n",
              "1           66964  IGRMUPFR2D   \n",
              "2           66981  IGRMX3ZMUO   \n",
              "3           67014  IGRM85KT4D   \n",
              "4           67028  IGRMPZHVD6   \n",
              "...           ...         ...   \n",
              "37970      894960  IGRM0ZDPCG   \n",
              "37971      895299  IGRMLMC8HH   \n",
              "37972      895334  IGRMNMCCXH   \n",
              "37973      895417  IGRMPON7QD   \n",
              "37974      895487  IGRM1GTSO3   \n",
              "\n",
              "                                      Land building info              cts  \\\n",
              "0      पालिकेचे नाव:इतर वर्णन :सि एस नं 1840 पार्ट, स...              NaN   \n",
              "1      पालिकेचे नाव:इतर वर्णन :जमिन व बांधकाम , टेापी...              NaN   \n",
              "2      पालिकेचे नाव:इतर वर्णन :डिलाईल रेाड क्रॉस लेन ...              NaN   \n",
              "3      पालिकेचे नाव:इतर वर्णन :सि एस नं 1310, क्षेत्र...              NaN   \n",
              "4      पालिकेचे नाव:इतर वर्णन :सदनिका नं 501, 5 वा मज...  1971 मध्दे आहे.   \n",
              "...                                                  ...              ...   \n",
              "37970  1)पालिकेचे नाव:मुंबई मनपाइतर वर्णन :, इतर  माह...             1902   \n",
              "37971  1)पालिकेचे नाव:मुंबई मनपाइतर वर्णन :, इतर  माह...              137   \n",
              "37972  1)पालिकेचे नाव:मुंबई मनपाइतर वर्णन :सदनिका नं:...              000   \n",
              "37973  1)पालिकेचे नाव:मुंबई मनपाइतर वर्णन :सदनिका नं:...             1910   \n",
              "37974  1)पालिकेचे नाव:मुंबई मनपाइतर वर्णन :, इतर  माह...             1960   \n",
              "\n",
              "               CTS10                                          final_cts  \\\n",
              "0               None   1840 पार्ट, सी ओ एस एम/ ए वाय/ 38/08 भरलेले म...   \n",
              "1               None                                               None   \n",
              "2               None                                               None   \n",
              "3               None   1310, क्षेत्र 90.30चौ मि  जमिन व बांधकाम टोपी...   \n",
              "4               None                                  - 1971 मध्दे आहे.   \n",
              "...              ...                                                ...   \n",
              "37970   1902 ;  )  )                                       1902 ;  )  )   \n",
              "37971    137 ;  )  )                                        137 ;  )  )   \n",
              "37972    000 ;  )  )                                        000 ;  )  )   \n",
              "37973   1910 ;  )  )                                       1910 ;  )  )   \n",
              "37974   1960 ;  )  )                                       1960 ;  )  )   \n",
              "\n",
              "                                                    CTS5  CTS7  \\\n",
              "0       1840 पार्ट, सी ओ एस एम/ ए वाय/ 38/08 भरलेले म...  None   \n",
              "1                                                   None  None   \n",
              "2                                                   None  None   \n",
              "3       1310, क्षेत्र 90.30चौ मि  जमिन व बांधकाम टोपी...  None   \n",
              "4                                                   None  None   \n",
              "...                                                  ...   ...   \n",
              "37970                                               None  None   \n",
              "37971                                               None  None   \n",
              "37972                                               None  None   \n",
              "37973                                               None  None   \n",
              "37974                                               None  None   \n",
              "\n",
              "                    CTS11  CTS6  CTS1  CTS3  CTS9  CTS2  CTS4  CTS8  \n",
              "0                    None  None  None  None  None  None  None  None  \n",
              "1                    None  None  None  None  None  None  None  None  \n",
              "2                    None  None  None  None  None  None  None  None  \n",
              "3                    None  None  None  None  None  None  None  None  \n",
              "4       - 1971 मध्दे आहे.  None  None  None  None  None  None  None  \n",
              "...                   ...   ...   ...   ...   ...   ...   ...   ...  \n",
              "37970                None  None  None  None  None  None  None  None  \n",
              "37971                None  None  None  None  None  None  None  None  \n",
              "37972                None  None  None  None  None  None  None  None  \n",
              "37973                None  None  None  None  None  None  None  None  \n",
              "37974                None  None  None  None  None  None  None  None  \n",
              "\n",
              "[37975 rows x 16 columns]"
            ],
            "text/html": [
              "\n",
              "  <div id=\"df-2d825055-573a-4a4e-b628-545df05a0b50\" class=\"colab-df-container\">\n",
              "    <div>\n",
              "<style scoped>\n",
              "    .dataframe tbody tr th:only-of-type {\n",
              "        vertical-align: middle;\n",
              "    }\n",
              "\n",
              "    .dataframe tbody tr th {\n",
              "        vertical-align: top;\n",
              "    }\n",
              "\n",
              "    .dataframe thead th {\n",
              "        text-align: right;\n",
              "    }\n",
              "</style>\n",
              "<table border=\"1\" class=\"dataframe\">\n",
              "  <thead>\n",
              "    <tr style=\"text-align: right;\">\n",
              "      <th></th>\n",
              "      <th>Unnamed: 0</th>\n",
              "      <th>Record ID</th>\n",
              "      <th>Land building info</th>\n",
              "      <th>cts</th>\n",
              "      <th>CTS10</th>\n",
              "      <th>final_cts</th>\n",
              "      <th>CTS5</th>\n",
              "      <th>CTS7</th>\n",
              "      <th>CTS11</th>\n",
              "      <th>CTS6</th>\n",
              "      <th>CTS1</th>\n",
              "      <th>CTS3</th>\n",
              "      <th>CTS9</th>\n",
              "      <th>CTS2</th>\n",
              "      <th>CTS4</th>\n",
              "      <th>CTS8</th>\n",
              "    </tr>\n",
              "  </thead>\n",
              "  <tbody>\n",
              "    <tr>\n",
              "      <th>0</th>\n",
              "      <td>66960</td>\n",
              "      <td>IGRMHDW4TN</td>\n",
              "      <td>पालिकेचे नाव:इतर वर्णन :सि एस नं 1840 पार्ट, स...</td>\n",
              "      <td>NaN</td>\n",
              "      <td>None</td>\n",
              "      <td>1840 पार्ट, सी ओ एस एम/ ए वाय/ 38/08 भरलेले म...</td>\n",
              "      <td>1840 पार्ट, सी ओ एस एम/ ए वाय/ 38/08 भरलेले म...</td>\n",
              "      <td>None</td>\n",
              "      <td>None</td>\n",
              "      <td>None</td>\n",
              "      <td>None</td>\n",
              "      <td>None</td>\n",
              "      <td>None</td>\n",
              "      <td>None</td>\n",
              "      <td>None</td>\n",
              "      <td>None</td>\n",
              "    </tr>\n",
              "    <tr>\n",
              "      <th>1</th>\n",
              "      <td>66964</td>\n",
              "      <td>IGRMUPFR2D</td>\n",
              "      <td>पालिकेचे नाव:इतर वर्णन :जमिन व बांधकाम , टेापी...</td>\n",
              "      <td>NaN</td>\n",
              "      <td>None</td>\n",
              "      <td>None</td>\n",
              "      <td>None</td>\n",
              "      <td>None</td>\n",
              "      <td>None</td>\n",
              "      <td>None</td>\n",
              "      <td>None</td>\n",
              "      <td>None</td>\n",
              "      <td>None</td>\n",
              "      <td>None</td>\n",
              "      <td>None</td>\n",
              "      <td>None</td>\n",
              "    </tr>\n",
              "    <tr>\n",
              "      <th>2</th>\n",
              "      <td>66981</td>\n",
              "      <td>IGRMX3ZMUO</td>\n",
              "      <td>पालिकेचे नाव:इतर वर्णन :डिलाईल रेाड क्रॉस लेन ...</td>\n",
              "      <td>NaN</td>\n",
              "      <td>None</td>\n",
              "      <td>None</td>\n",
              "      <td>None</td>\n",
              "      <td>None</td>\n",
              "      <td>None</td>\n",
              "      <td>None</td>\n",
              "      <td>None</td>\n",
              "      <td>None</td>\n",
              "      <td>None</td>\n",
              "      <td>None</td>\n",
              "      <td>None</td>\n",
              "      <td>None</td>\n",
              "    </tr>\n",
              "    <tr>\n",
              "      <th>3</th>\n",
              "      <td>67014</td>\n",
              "      <td>IGRM85KT4D</td>\n",
              "      <td>पालिकेचे नाव:इतर वर्णन :सि एस नं 1310, क्षेत्र...</td>\n",
              "      <td>NaN</td>\n",
              "      <td>None</td>\n",
              "      <td>1310, क्षेत्र 90.30चौ मि  जमिन व बांधकाम टोपी...</td>\n",
              "      <td>1310, क्षेत्र 90.30चौ मि  जमिन व बांधकाम टोपी...</td>\n",
              "      <td>None</td>\n",
              "      <td>None</td>\n",
              "      <td>None</td>\n",
              "      <td>None</td>\n",
              "      <td>None</td>\n",
              "      <td>None</td>\n",
              "      <td>None</td>\n",
              "      <td>None</td>\n",
              "      <td>None</td>\n",
              "    </tr>\n",
              "    <tr>\n",
              "      <th>4</th>\n",
              "      <td>67028</td>\n",
              "      <td>IGRMPZHVD6</td>\n",
              "      <td>पालिकेचे नाव:इतर वर्णन :सदनिका नं 501, 5 वा मज...</td>\n",
              "      <td>1971 मध्दे आहे.</td>\n",
              "      <td>None</td>\n",
              "      <td>- 1971 मध्दे आहे.</td>\n",
              "      <td>None</td>\n",
              "      <td>None</td>\n",
              "      <td>- 1971 मध्दे आहे.</td>\n",
              "      <td>None</td>\n",
              "      <td>None</td>\n",
              "      <td>None</td>\n",
              "      <td>None</td>\n",
              "      <td>None</td>\n",
              "      <td>None</td>\n",
              "      <td>None</td>\n",
              "    </tr>\n",
              "    <tr>\n",
              "      <th>...</th>\n",
              "      <td>...</td>\n",
              "      <td>...</td>\n",
              "      <td>...</td>\n",
              "      <td>...</td>\n",
              "      <td>...</td>\n",
              "      <td>...</td>\n",
              "      <td>...</td>\n",
              "      <td>...</td>\n",
              "      <td>...</td>\n",
              "      <td>...</td>\n",
              "      <td>...</td>\n",
              "      <td>...</td>\n",
              "      <td>...</td>\n",
              "      <td>...</td>\n",
              "      <td>...</td>\n",
              "      <td>...</td>\n",
              "    </tr>\n",
              "    <tr>\n",
              "      <th>37970</th>\n",
              "      <td>894960</td>\n",
              "      <td>IGRM0ZDPCG</td>\n",
              "      <td>1)पालिकेचे नाव:मुंबई मनपाइतर वर्णन :, इतर  माह...</td>\n",
              "      <td>1902</td>\n",
              "      <td>1902 ;  )  )</td>\n",
              "      <td>1902 ;  )  )</td>\n",
              "      <td>None</td>\n",
              "      <td>None</td>\n",
              "      <td>None</td>\n",
              "      <td>None</td>\n",
              "      <td>None</td>\n",
              "      <td>None</td>\n",
              "      <td>None</td>\n",
              "      <td>None</td>\n",
              "      <td>None</td>\n",
              "      <td>None</td>\n",
              "    </tr>\n",
              "    <tr>\n",
              "      <th>37971</th>\n",
              "      <td>895299</td>\n",
              "      <td>IGRMLMC8HH</td>\n",
              "      <td>1)पालिकेचे नाव:मुंबई मनपाइतर वर्णन :, इतर  माह...</td>\n",
              "      <td>137</td>\n",
              "      <td>137 ;  )  )</td>\n",
              "      <td>137 ;  )  )</td>\n",
              "      <td>None</td>\n",
              "      <td>None</td>\n",
              "      <td>None</td>\n",
              "      <td>None</td>\n",
              "      <td>None</td>\n",
              "      <td>None</td>\n",
              "      <td>None</td>\n",
              "      <td>None</td>\n",
              "      <td>None</td>\n",
              "      <td>None</td>\n",
              "    </tr>\n",
              "    <tr>\n",
              "      <th>37972</th>\n",
              "      <td>895334</td>\n",
              "      <td>IGRMNMCCXH</td>\n",
              "      <td>1)पालिकेचे नाव:मुंबई मनपाइतर वर्णन :सदनिका नं:...</td>\n",
              "      <td>000</td>\n",
              "      <td>000 ;  )  )</td>\n",
              "      <td>000 ;  )  )</td>\n",
              "      <td>None</td>\n",
              "      <td>None</td>\n",
              "      <td>None</td>\n",
              "      <td>None</td>\n",
              "      <td>None</td>\n",
              "      <td>None</td>\n",
              "      <td>None</td>\n",
              "      <td>None</td>\n",
              "      <td>None</td>\n",
              "      <td>None</td>\n",
              "    </tr>\n",
              "    <tr>\n",
              "      <th>37973</th>\n",
              "      <td>895417</td>\n",
              "      <td>IGRMPON7QD</td>\n",
              "      <td>1)पालिकेचे नाव:मुंबई मनपाइतर वर्णन :सदनिका नं:...</td>\n",
              "      <td>1910</td>\n",
              "      <td>1910 ;  )  )</td>\n",
              "      <td>1910 ;  )  )</td>\n",
              "      <td>None</td>\n",
              "      <td>None</td>\n",
              "      <td>None</td>\n",
              "      <td>None</td>\n",
              "      <td>None</td>\n",
              "      <td>None</td>\n",
              "      <td>None</td>\n",
              "      <td>None</td>\n",
              "      <td>None</td>\n",
              "      <td>None</td>\n",
              "    </tr>\n",
              "    <tr>\n",
              "      <th>37974</th>\n",
              "      <td>895487</td>\n",
              "      <td>IGRM1GTSO3</td>\n",
              "      <td>1)पालिकेचे नाव:मुंबई मनपाइतर वर्णन :, इतर  माह...</td>\n",
              "      <td>1960</td>\n",
              "      <td>1960 ;  )  )</td>\n",
              "      <td>1960 ;  )  )</td>\n",
              "      <td>None</td>\n",
              "      <td>None</td>\n",
              "      <td>None</td>\n",
              "      <td>None</td>\n",
              "      <td>None</td>\n",
              "      <td>None</td>\n",
              "      <td>None</td>\n",
              "      <td>None</td>\n",
              "      <td>None</td>\n",
              "      <td>None</td>\n",
              "    </tr>\n",
              "  </tbody>\n",
              "</table>\n",
              "<p>37975 rows × 16 columns</p>\n",
              "</div>\n",
              "    <div class=\"colab-df-buttons\">\n",
              "\n",
              "  <div class=\"colab-df-container\">\n",
              "    <button class=\"colab-df-convert\" onclick=\"convertToInteractive('df-2d825055-573a-4a4e-b628-545df05a0b50')\"\n",
              "            title=\"Convert this dataframe to an interactive table.\"\n",
              "            style=\"display:none;\">\n",
              "\n",
              "  <svg xmlns=\"http://www.w3.org/2000/svg\" height=\"24px\" viewBox=\"0 -960 960 960\">\n",
              "    <path d=\"M120-120v-720h720v720H120Zm60-500h600v-160H180v160Zm220 220h160v-160H400v160Zm0 220h160v-160H400v160ZM180-400h160v-160H180v160Zm440 0h160v-160H620v160ZM180-180h160v-160H180v160Zm440 0h160v-160H620v160Z\"/>\n",
              "  </svg>\n",
              "    </button>\n",
              "\n",
              "  <style>\n",
              "    .colab-df-container {\n",
              "      display:flex;\n",
              "      gap: 12px;\n",
              "    }\n",
              "\n",
              "    .colab-df-convert {\n",
              "      background-color: #E8F0FE;\n",
              "      border: none;\n",
              "      border-radius: 50%;\n",
              "      cursor: pointer;\n",
              "      display: none;\n",
              "      fill: #1967D2;\n",
              "      height: 32px;\n",
              "      padding: 0 0 0 0;\n",
              "      width: 32px;\n",
              "    }\n",
              "\n",
              "    .colab-df-convert:hover {\n",
              "      background-color: #E2EBFA;\n",
              "      box-shadow: 0px 1px 2px rgba(60, 64, 67, 0.3), 0px 1px 3px 1px rgba(60, 64, 67, 0.15);\n",
              "      fill: #174EA6;\n",
              "    }\n",
              "\n",
              "    .colab-df-buttons div {\n",
              "      margin-bottom: 4px;\n",
              "    }\n",
              "\n",
              "    [theme=dark] .colab-df-convert {\n",
              "      background-color: #3B4455;\n",
              "      fill: #D2E3FC;\n",
              "    }\n",
              "\n",
              "    [theme=dark] .colab-df-convert:hover {\n",
              "      background-color: #434B5C;\n",
              "      box-shadow: 0px 1px 3px 1px rgba(0, 0, 0, 0.15);\n",
              "      filter: drop-shadow(0px 1px 2px rgba(0, 0, 0, 0.3));\n",
              "      fill: #FFFFFF;\n",
              "    }\n",
              "  </style>\n",
              "\n",
              "    <script>\n",
              "      const buttonEl =\n",
              "        document.querySelector('#df-2d825055-573a-4a4e-b628-545df05a0b50 button.colab-df-convert');\n",
              "      buttonEl.style.display =\n",
              "        google.colab.kernel.accessAllowed ? 'block' : 'none';\n",
              "\n",
              "      async function convertToInteractive(key) {\n",
              "        const element = document.querySelector('#df-2d825055-573a-4a4e-b628-545df05a0b50');\n",
              "        const dataTable =\n",
              "          await google.colab.kernel.invokeFunction('convertToInteractive',\n",
              "                                                    [key], {});\n",
              "        if (!dataTable) return;\n",
              "\n",
              "        const docLinkHtml = 'Like what you see? Visit the ' +\n",
              "          '<a target=\"_blank\" href=https://colab.research.google.com/notebooks/data_table.ipynb>data table notebook</a>'\n",
              "          + ' to learn more about interactive tables.';\n",
              "        element.innerHTML = '';\n",
              "        dataTable['output_type'] = 'display_data';\n",
              "        await google.colab.output.renderOutput(dataTable, element);\n",
              "        const docLink = document.createElement('div');\n",
              "        docLink.innerHTML = docLinkHtml;\n",
              "        element.appendChild(docLink);\n",
              "      }\n",
              "    </script>\n",
              "  </div>\n",
              "\n",
              "\n",
              "<div id=\"df-7d5c82fb-c12a-4800-b8bc-c1487db64995\">\n",
              "  <button class=\"colab-df-quickchart\" onclick=\"quickchart('df-7d5c82fb-c12a-4800-b8bc-c1487db64995')\"\n",
              "            title=\"Suggest charts.\"\n",
              "            style=\"display:none;\">\n",
              "\n",
              "<svg xmlns=\"http://www.w3.org/2000/svg\" height=\"24px\"viewBox=\"0 0 24 24\"\n",
              "     width=\"24px\">\n",
              "    <g>\n",
              "        <path d=\"M19 3H5c-1.1 0-2 .9-2 2v14c0 1.1.9 2 2 2h14c1.1 0 2-.9 2-2V5c0-1.1-.9-2-2-2zM9 17H7v-7h2v7zm4 0h-2V7h2v10zm4 0h-2v-4h2v4z\"/>\n",
              "    </g>\n",
              "</svg>\n",
              "  </button>\n",
              "\n",
              "<style>\n",
              "  .colab-df-quickchart {\n",
              "      --bg-color: #E8F0FE;\n",
              "      --fill-color: #1967D2;\n",
              "      --hover-bg-color: #E2EBFA;\n",
              "      --hover-fill-color: #174EA6;\n",
              "      --disabled-fill-color: #AAA;\n",
              "      --disabled-bg-color: #DDD;\n",
              "  }\n",
              "\n",
              "  [theme=dark] .colab-df-quickchart {\n",
              "      --bg-color: #3B4455;\n",
              "      --fill-color: #D2E3FC;\n",
              "      --hover-bg-color: #434B5C;\n",
              "      --hover-fill-color: #FFFFFF;\n",
              "      --disabled-bg-color: #3B4455;\n",
              "      --disabled-fill-color: #666;\n",
              "  }\n",
              "\n",
              "  .colab-df-quickchart {\n",
              "    background-color: var(--bg-color);\n",
              "    border: none;\n",
              "    border-radius: 50%;\n",
              "    cursor: pointer;\n",
              "    display: none;\n",
              "    fill: var(--fill-color);\n",
              "    height: 32px;\n",
              "    padding: 0;\n",
              "    width: 32px;\n",
              "  }\n",
              "\n",
              "  .colab-df-quickchart:hover {\n",
              "    background-color: var(--hover-bg-color);\n",
              "    box-shadow: 0 1px 2px rgba(60, 64, 67, 0.3), 0 1px 3px 1px rgba(60, 64, 67, 0.15);\n",
              "    fill: var(--button-hover-fill-color);\n",
              "  }\n",
              "\n",
              "  .colab-df-quickchart-complete:disabled,\n",
              "  .colab-df-quickchart-complete:disabled:hover {\n",
              "    background-color: var(--disabled-bg-color);\n",
              "    fill: var(--disabled-fill-color);\n",
              "    box-shadow: none;\n",
              "  }\n",
              "\n",
              "  .colab-df-spinner {\n",
              "    border: 2px solid var(--fill-color);\n",
              "    border-color: transparent;\n",
              "    border-bottom-color: var(--fill-color);\n",
              "    animation:\n",
              "      spin 1s steps(1) infinite;\n",
              "  }\n",
              "\n",
              "  @keyframes spin {\n",
              "    0% {\n",
              "      border-color: transparent;\n",
              "      border-bottom-color: var(--fill-color);\n",
              "      border-left-color: var(--fill-color);\n",
              "    }\n",
              "    20% {\n",
              "      border-color: transparent;\n",
              "      border-left-color: var(--fill-color);\n",
              "      border-top-color: var(--fill-color);\n",
              "    }\n",
              "    30% {\n",
              "      border-color: transparent;\n",
              "      border-left-color: var(--fill-color);\n",
              "      border-top-color: var(--fill-color);\n",
              "      border-right-color: var(--fill-color);\n",
              "    }\n",
              "    40% {\n",
              "      border-color: transparent;\n",
              "      border-right-color: var(--fill-color);\n",
              "      border-top-color: var(--fill-color);\n",
              "    }\n",
              "    60% {\n",
              "      border-color: transparent;\n",
              "      border-right-color: var(--fill-color);\n",
              "    }\n",
              "    80% {\n",
              "      border-color: transparent;\n",
              "      border-right-color: var(--fill-color);\n",
              "      border-bottom-color: var(--fill-color);\n",
              "    }\n",
              "    90% {\n",
              "      border-color: transparent;\n",
              "      border-bottom-color: var(--fill-color);\n",
              "    }\n",
              "  }\n",
              "</style>\n",
              "\n",
              "  <script>\n",
              "    async function quickchart(key) {\n",
              "      const quickchartButtonEl =\n",
              "        document.querySelector('#' + key + ' button');\n",
              "      quickchartButtonEl.disabled = true;  // To prevent multiple clicks.\n",
              "      quickchartButtonEl.classList.add('colab-df-spinner');\n",
              "      try {\n",
              "        const charts = await google.colab.kernel.invokeFunction(\n",
              "            'suggestCharts', [key], {});\n",
              "      } catch (error) {\n",
              "        console.error('Error during call to suggestCharts:', error);\n",
              "      }\n",
              "      quickchartButtonEl.classList.remove('colab-df-spinner');\n",
              "      quickchartButtonEl.classList.add('colab-df-quickchart-complete');\n",
              "    }\n",
              "    (() => {\n",
              "      let quickchartButtonEl =\n",
              "        document.querySelector('#df-7d5c82fb-c12a-4800-b8bc-c1487db64995 button');\n",
              "      quickchartButtonEl.style.display =\n",
              "        google.colab.kernel.accessAllowed ? 'block' : 'none';\n",
              "    })();\n",
              "  </script>\n",
              "</div>\n",
              "    </div>\n",
              "  </div>\n"
            ]
          },
          "metadata": {},
          "execution_count": 1110
        }
      ]
    },
    {
      "cell_type": "code",
      "source": [
        "data2.columns"
      ],
      "metadata": {
        "colab": {
          "base_uri": "https://localhost:8080/"
        },
        "id": "Eymmv6TzTaJo",
        "outputId": "56be13d1-5a03-49b4-da2c-3127d1e260df"
      },
      "execution_count": null,
      "outputs": [
        {
          "output_type": "execute_result",
          "data": {
            "text/plain": [
              "Index(['Unnamed: 0', 'Record ID', 'Land building info', 'cts', 'CTS10',\n",
              "       'final_cts', 'CTS5', 'CTS7', 'CTS11', 'CTS6', 'CTS1', 'CTS3', 'CTS9',\n",
              "       'CTS2', 'CTS4', 'CTS8'],\n",
              "      dtype='object')"
            ]
          },
          "metadata": {},
          "execution_count": 1111
        }
      ]
    },
    {
      "cell_type": "code",
      "source": [
        "#data3 = data2[\"Land building info\"]\n",
        "#data3 = pd.DataFrame(data3)\n",
        "#data3 = data3.assign(cts=None)\n",
        "#data3[\"cts\"] = data2[\"cts\"]\n",
        "#data3 = data3.assign(final_cts=None)\n",
        "#data3[\"final_cts\"] = data2[\"final_cts\"]"
      ],
      "metadata": {
        "id": "35dWfSCBU0FS"
      },
      "execution_count": null,
      "outputs": []
    },
    {
      "cell_type": "code",
      "source": [
        "data3=data2[\"final_cts\"]"
      ],
      "metadata": {
        "id": "0NORYHuKVs6Z"
      },
      "execution_count": null,
      "outputs": []
    },
    {
      "cell_type": "code",
      "source": [
        "data3 = pd.DataFrame(data3)"
      ],
      "metadata": {
        "id": "OZTlazoyyPab"
      },
      "execution_count": null,
      "outputs": []
    },
    {
      "cell_type": "code",
      "source": [
        "data3[\"final_cts\"].isna().sum()"
      ],
      "metadata": {
        "colab": {
          "base_uri": "https://localhost:8080/"
        },
        "id": "gz_7aWxQW1TI",
        "outputId": "ca586406-2965-41cb-9f89-76c01e1ad29e"
      },
      "execution_count": null,
      "outputs": [
        {
          "output_type": "execute_result",
          "data": {
            "text/plain": [
              "8810"
            ]
          },
          "metadata": {},
          "execution_count": 1115
        }
      ]
    },
    {
      "cell_type": "markdown",
      "source": [
        "CTS Right Cleaning_____**"
      ],
      "metadata": {
        "id": "nbMQ0_DpXqXJ"
      }
    },
    {
      "cell_type": "markdown",
      "source": [
        "Format Types\n",
        "\n",
        "1) Plot Number **\n",
        "\n",
        "2) Final Plot Number **\n",
        "\n",
        "3) Kachara Number **\n",
        "\n",
        "4) GAT NUMBER **\n",
        "\n",
        "5) सि एस न **\n",
        "\n",
        "6) Ward no **\n",
        "\n",
        "7) Block Number  **\n",
        "\n",
        "8) मध्दे आहे **\n",
        "\n",
        "9) जुना\n",
        "\n",
        "10) क्षेत्र **"
      ],
      "metadata": {
        "id": "H5rERKXyamrZ"
      }
    },
    {
      "cell_type": "code",
      "source": [
        "# trial-8 cts extraction:\n",
        "\n",
        "import re\n",
        "\n",
        "def remove_everything_from_character_to_end8(string: str) -> str:\n",
        "  character = \"मध्दे.*\"\n",
        "\n",
        "  regex = character + \".*\"\n",
        "  return re.sub(regex,\"\", string)\n",
        "\n",
        "\n",
        "string = \"1895 मध्दे आहे. -----सदनिका नं  15 -अे, 15 वा माळा, बेल्वेदर कोर्ट, साने गुरुजी मार्ग, महालक्ष्मी  मुं 11.-------2 कारपार्कींग सहीत नं  103 व 108,\"\n",
        "result = remove_everything_from_character_to_end8(string)\n",
        "print(result)"
      ],
      "metadata": {
        "colab": {
          "base_uri": "https://localhost:8080/"
        },
        "id": "SJCe9-gAXPlK",
        "outputId": "fc000f4d-959b-4734-9127-016eeae81813"
      },
      "execution_count": null,
      "outputs": [
        {
          "output_type": "stream",
          "name": "stdout",
          "text": [
            "1895 \n"
          ]
        }
      ]
    },
    {
      "cell_type": "code",
      "source": [
        "data3['final_cts'] = data3['final_cts'].astype(str)\n",
        "data3['final_cts'] = data3['final_cts'].apply(remove_everything_from_character_to_end8)\n"
      ],
      "metadata": {
        "id": "yefCZhhPYGon"
      },
      "execution_count": null,
      "outputs": []
    },
    {
      "cell_type": "code",
      "source": [
        "data3"
      ],
      "metadata": {
        "colab": {
          "base_uri": "https://localhost:8080/",
          "height": 424
        },
        "id": "QQYO00eael_i",
        "outputId": "30794c53-f57e-45d8-a1bc-efee6d2a6a0a"
      },
      "execution_count": null,
      "outputs": [
        {
          "output_type": "execute_result",
          "data": {
            "text/plain": [
              "                                               final_cts\n",
              "0       1840 पार्ट, सी ओ एस एम/ ए वाय/ 38/08 भरलेले म...\n",
              "1                                                   None\n",
              "2                                                   None\n",
              "3       1310, क्षेत्र 90.30चौ मि  जमिन व बांधकाम टोपी...\n",
              "4                                                - 1971 \n",
              "...                                                  ...\n",
              "37970                                       1902 ;  )  )\n",
              "37971                                        137 ;  )  )\n",
              "37972                                        000 ;  )  )\n",
              "37973                                       1910 ;  )  )\n",
              "37974                                       1960 ;  )  )\n",
              "\n",
              "[37975 rows x 1 columns]"
            ],
            "text/html": [
              "\n",
              "  <div id=\"df-7a775cdb-af74-427b-ac0e-96b5b031f566\" class=\"colab-df-container\">\n",
              "    <div>\n",
              "<style scoped>\n",
              "    .dataframe tbody tr th:only-of-type {\n",
              "        vertical-align: middle;\n",
              "    }\n",
              "\n",
              "    .dataframe tbody tr th {\n",
              "        vertical-align: top;\n",
              "    }\n",
              "\n",
              "    .dataframe thead th {\n",
              "        text-align: right;\n",
              "    }\n",
              "</style>\n",
              "<table border=\"1\" class=\"dataframe\">\n",
              "  <thead>\n",
              "    <tr style=\"text-align: right;\">\n",
              "      <th></th>\n",
              "      <th>final_cts</th>\n",
              "    </tr>\n",
              "  </thead>\n",
              "  <tbody>\n",
              "    <tr>\n",
              "      <th>0</th>\n",
              "      <td>1840 पार्ट, सी ओ एस एम/ ए वाय/ 38/08 भरलेले म...</td>\n",
              "    </tr>\n",
              "    <tr>\n",
              "      <th>1</th>\n",
              "      <td>None</td>\n",
              "    </tr>\n",
              "    <tr>\n",
              "      <th>2</th>\n",
              "      <td>None</td>\n",
              "    </tr>\n",
              "    <tr>\n",
              "      <th>3</th>\n",
              "      <td>1310, क्षेत्र 90.30चौ मि  जमिन व बांधकाम टोपी...</td>\n",
              "    </tr>\n",
              "    <tr>\n",
              "      <th>4</th>\n",
              "      <td>- 1971</td>\n",
              "    </tr>\n",
              "    <tr>\n",
              "      <th>...</th>\n",
              "      <td>...</td>\n",
              "    </tr>\n",
              "    <tr>\n",
              "      <th>37970</th>\n",
              "      <td>1902 ;  )  )</td>\n",
              "    </tr>\n",
              "    <tr>\n",
              "      <th>37971</th>\n",
              "      <td>137 ;  )  )</td>\n",
              "    </tr>\n",
              "    <tr>\n",
              "      <th>37972</th>\n",
              "      <td>000 ;  )  )</td>\n",
              "    </tr>\n",
              "    <tr>\n",
              "      <th>37973</th>\n",
              "      <td>1910 ;  )  )</td>\n",
              "    </tr>\n",
              "    <tr>\n",
              "      <th>37974</th>\n",
              "      <td>1960 ;  )  )</td>\n",
              "    </tr>\n",
              "  </tbody>\n",
              "</table>\n",
              "<p>37975 rows × 1 columns</p>\n",
              "</div>\n",
              "    <div class=\"colab-df-buttons\">\n",
              "\n",
              "  <div class=\"colab-df-container\">\n",
              "    <button class=\"colab-df-convert\" onclick=\"convertToInteractive('df-7a775cdb-af74-427b-ac0e-96b5b031f566')\"\n",
              "            title=\"Convert this dataframe to an interactive table.\"\n",
              "            style=\"display:none;\">\n",
              "\n",
              "  <svg xmlns=\"http://www.w3.org/2000/svg\" height=\"24px\" viewBox=\"0 -960 960 960\">\n",
              "    <path d=\"M120-120v-720h720v720H120Zm60-500h600v-160H180v160Zm220 220h160v-160H400v160Zm0 220h160v-160H400v160ZM180-400h160v-160H180v160Zm440 0h160v-160H620v160ZM180-180h160v-160H180v160Zm440 0h160v-160H620v160Z\"/>\n",
              "  </svg>\n",
              "    </button>\n",
              "\n",
              "  <style>\n",
              "    .colab-df-container {\n",
              "      display:flex;\n",
              "      gap: 12px;\n",
              "    }\n",
              "\n",
              "    .colab-df-convert {\n",
              "      background-color: #E8F0FE;\n",
              "      border: none;\n",
              "      border-radius: 50%;\n",
              "      cursor: pointer;\n",
              "      display: none;\n",
              "      fill: #1967D2;\n",
              "      height: 32px;\n",
              "      padding: 0 0 0 0;\n",
              "      width: 32px;\n",
              "    }\n",
              "\n",
              "    .colab-df-convert:hover {\n",
              "      background-color: #E2EBFA;\n",
              "      box-shadow: 0px 1px 2px rgba(60, 64, 67, 0.3), 0px 1px 3px 1px rgba(60, 64, 67, 0.15);\n",
              "      fill: #174EA6;\n",
              "    }\n",
              "\n",
              "    .colab-df-buttons div {\n",
              "      margin-bottom: 4px;\n",
              "    }\n",
              "\n",
              "    [theme=dark] .colab-df-convert {\n",
              "      background-color: #3B4455;\n",
              "      fill: #D2E3FC;\n",
              "    }\n",
              "\n",
              "    [theme=dark] .colab-df-convert:hover {\n",
              "      background-color: #434B5C;\n",
              "      box-shadow: 0px 1px 3px 1px rgba(0, 0, 0, 0.15);\n",
              "      filter: drop-shadow(0px 1px 2px rgba(0, 0, 0, 0.3));\n",
              "      fill: #FFFFFF;\n",
              "    }\n",
              "  </style>\n",
              "\n",
              "    <script>\n",
              "      const buttonEl =\n",
              "        document.querySelector('#df-7a775cdb-af74-427b-ac0e-96b5b031f566 button.colab-df-convert');\n",
              "      buttonEl.style.display =\n",
              "        google.colab.kernel.accessAllowed ? 'block' : 'none';\n",
              "\n",
              "      async function convertToInteractive(key) {\n",
              "        const element = document.querySelector('#df-7a775cdb-af74-427b-ac0e-96b5b031f566');\n",
              "        const dataTable =\n",
              "          await google.colab.kernel.invokeFunction('convertToInteractive',\n",
              "                                                    [key], {});\n",
              "        if (!dataTable) return;\n",
              "\n",
              "        const docLinkHtml = 'Like what you see? Visit the ' +\n",
              "          '<a target=\"_blank\" href=https://colab.research.google.com/notebooks/data_table.ipynb>data table notebook</a>'\n",
              "          + ' to learn more about interactive tables.';\n",
              "        element.innerHTML = '';\n",
              "        dataTable['output_type'] = 'display_data';\n",
              "        await google.colab.output.renderOutput(dataTable, element);\n",
              "        const docLink = document.createElement('div');\n",
              "        docLink.innerHTML = docLinkHtml;\n",
              "        element.appendChild(docLink);\n",
              "      }\n",
              "    </script>\n",
              "  </div>\n",
              "\n",
              "\n",
              "<div id=\"df-6b8987a2-6348-4331-9f63-7c0b5e56633b\">\n",
              "  <button class=\"colab-df-quickchart\" onclick=\"quickchart('df-6b8987a2-6348-4331-9f63-7c0b5e56633b')\"\n",
              "            title=\"Suggest charts.\"\n",
              "            style=\"display:none;\">\n",
              "\n",
              "<svg xmlns=\"http://www.w3.org/2000/svg\" height=\"24px\"viewBox=\"0 0 24 24\"\n",
              "     width=\"24px\">\n",
              "    <g>\n",
              "        <path d=\"M19 3H5c-1.1 0-2 .9-2 2v14c0 1.1.9 2 2 2h14c1.1 0 2-.9 2-2V5c0-1.1-.9-2-2-2zM9 17H7v-7h2v7zm4 0h-2V7h2v10zm4 0h-2v-4h2v4z\"/>\n",
              "    </g>\n",
              "</svg>\n",
              "  </button>\n",
              "\n",
              "<style>\n",
              "  .colab-df-quickchart {\n",
              "      --bg-color: #E8F0FE;\n",
              "      --fill-color: #1967D2;\n",
              "      --hover-bg-color: #E2EBFA;\n",
              "      --hover-fill-color: #174EA6;\n",
              "      --disabled-fill-color: #AAA;\n",
              "      --disabled-bg-color: #DDD;\n",
              "  }\n",
              "\n",
              "  [theme=dark] .colab-df-quickchart {\n",
              "      --bg-color: #3B4455;\n",
              "      --fill-color: #D2E3FC;\n",
              "      --hover-bg-color: #434B5C;\n",
              "      --hover-fill-color: #FFFFFF;\n",
              "      --disabled-bg-color: #3B4455;\n",
              "      --disabled-fill-color: #666;\n",
              "  }\n",
              "\n",
              "  .colab-df-quickchart {\n",
              "    background-color: var(--bg-color);\n",
              "    border: none;\n",
              "    border-radius: 50%;\n",
              "    cursor: pointer;\n",
              "    display: none;\n",
              "    fill: var(--fill-color);\n",
              "    height: 32px;\n",
              "    padding: 0;\n",
              "    width: 32px;\n",
              "  }\n",
              "\n",
              "  .colab-df-quickchart:hover {\n",
              "    background-color: var(--hover-bg-color);\n",
              "    box-shadow: 0 1px 2px rgba(60, 64, 67, 0.3), 0 1px 3px 1px rgba(60, 64, 67, 0.15);\n",
              "    fill: var(--button-hover-fill-color);\n",
              "  }\n",
              "\n",
              "  .colab-df-quickchart-complete:disabled,\n",
              "  .colab-df-quickchart-complete:disabled:hover {\n",
              "    background-color: var(--disabled-bg-color);\n",
              "    fill: var(--disabled-fill-color);\n",
              "    box-shadow: none;\n",
              "  }\n",
              "\n",
              "  .colab-df-spinner {\n",
              "    border: 2px solid var(--fill-color);\n",
              "    border-color: transparent;\n",
              "    border-bottom-color: var(--fill-color);\n",
              "    animation:\n",
              "      spin 1s steps(1) infinite;\n",
              "  }\n",
              "\n",
              "  @keyframes spin {\n",
              "    0% {\n",
              "      border-color: transparent;\n",
              "      border-bottom-color: var(--fill-color);\n",
              "      border-left-color: var(--fill-color);\n",
              "    }\n",
              "    20% {\n",
              "      border-color: transparent;\n",
              "      border-left-color: var(--fill-color);\n",
              "      border-top-color: var(--fill-color);\n",
              "    }\n",
              "    30% {\n",
              "      border-color: transparent;\n",
              "      border-left-color: var(--fill-color);\n",
              "      border-top-color: var(--fill-color);\n",
              "      border-right-color: var(--fill-color);\n",
              "    }\n",
              "    40% {\n",
              "      border-color: transparent;\n",
              "      border-right-color: var(--fill-color);\n",
              "      border-top-color: var(--fill-color);\n",
              "    }\n",
              "    60% {\n",
              "      border-color: transparent;\n",
              "      border-right-color: var(--fill-color);\n",
              "    }\n",
              "    80% {\n",
              "      border-color: transparent;\n",
              "      border-right-color: var(--fill-color);\n",
              "      border-bottom-color: var(--fill-color);\n",
              "    }\n",
              "    90% {\n",
              "      border-color: transparent;\n",
              "      border-bottom-color: var(--fill-color);\n",
              "    }\n",
              "  }\n",
              "</style>\n",
              "\n",
              "  <script>\n",
              "    async function quickchart(key) {\n",
              "      const quickchartButtonEl =\n",
              "        document.querySelector('#' + key + ' button');\n",
              "      quickchartButtonEl.disabled = true;  // To prevent multiple clicks.\n",
              "      quickchartButtonEl.classList.add('colab-df-spinner');\n",
              "      try {\n",
              "        const charts = await google.colab.kernel.invokeFunction(\n",
              "            'suggestCharts', [key], {});\n",
              "      } catch (error) {\n",
              "        console.error('Error during call to suggestCharts:', error);\n",
              "      }\n",
              "      quickchartButtonEl.classList.remove('colab-df-spinner');\n",
              "      quickchartButtonEl.classList.add('colab-df-quickchart-complete');\n",
              "    }\n",
              "    (() => {\n",
              "      let quickchartButtonEl =\n",
              "        document.querySelector('#df-6b8987a2-6348-4331-9f63-7c0b5e56633b button');\n",
              "      quickchartButtonEl.style.display =\n",
              "        google.colab.kernel.accessAllowed ? 'block' : 'none';\n",
              "    })();\n",
              "  </script>\n",
              "</div>\n",
              "    </div>\n",
              "  </div>\n"
            ]
          },
          "metadata": {},
          "execution_count": 1118
        }
      ]
    },
    {
      "cell_type": "code",
      "source": [
        "# trial-7 cts extraction:\n",
        "\n",
        "import re\n",
        "\n",
        "def remove_everything_from_character_to_end7(string):\n",
        "  character = \"Block.*\"\n",
        "\n",
        "  regex = character + \".*\"\n",
        "  return re.sub(regex, \"\", string)\n",
        "\n",
        "string = \"222 Block Number.\"\n",
        "result = remove_everything_from_character_to_end7(string)\n",
        "print(result)"
      ],
      "metadata": {
        "colab": {
          "base_uri": "https://localhost:8080/"
        },
        "id": "Fk6DrD4ZaiXL",
        "outputId": "544917f9-a184-42fd-dae0-10e19f81a672"
      },
      "execution_count": null,
      "outputs": [
        {
          "output_type": "stream",
          "name": "stdout",
          "text": [
            "222 \n"
          ]
        }
      ]
    },
    {
      "cell_type": "code",
      "source": [
        "data3['final_cts'] = data3['final_cts'].apply(remove_everything_from_character_to_end7)\n",
        "\n",
        "#data3['final_cts2'] = data3['final_cts2'].fillna(data3[\"CTS7\"])"
      ],
      "metadata": {
        "id": "TrvK9g_Ya4_K"
      },
      "execution_count": null,
      "outputs": []
    },
    {
      "cell_type": "code",
      "source": [
        "# trial-6 cts extraction:\n",
        "\n",
        "import re\n",
        "\n",
        "def remove_everything_from_character_to_end6(string):\n",
        "  character = \"Ward.*\"\n",
        "\n",
        "  regex = character + \".*\"\n",
        "  return re.sub(regex, \"\", string)\n",
        "\n",
        "string = \"222 Ward Number ifnjkwehukfhgfgfg.\"\n",
        "result = remove_everything_from_character_to_end6(string)\n",
        "print(result)"
      ],
      "metadata": {
        "colab": {
          "base_uri": "https://localhost:8080/"
        },
        "id": "4byHTwjfbOb5",
        "outputId": "dfcf76e3-9033-4492-cb06-d67eae0b3437"
      },
      "execution_count": null,
      "outputs": [
        {
          "output_type": "stream",
          "name": "stdout",
          "text": [
            "222 \n"
          ]
        }
      ]
    },
    {
      "cell_type": "code",
      "source": [
        "data3['final_cts'] = data3['final_cts'].apply(remove_everything_from_character_to_end6)\n",
        "\n",
        "#data3['final_cts2'] = data3['final_cts2'].fillna(data3[\"CTS6\"])"
      ],
      "metadata": {
        "id": "UYzqeQyTbSr4"
      },
      "execution_count": null,
      "outputs": []
    },
    {
      "cell_type": "code",
      "source": [
        "# trial-4 cts extraction:\n",
        "\n",
        "import re\n",
        "\n",
        "def remove_everything_from_character_to_end4(string):\n",
        "  character = \"GAT.*\"\n",
        "\n",
        "  regex = character + \".*\"\n",
        "  return re.sub(regex, \"\", string)\n",
        "\n",
        "string = \"222 GAT Number ifnjkwehukfhgfgfg.\"\n",
        "result = remove_everything_from_character_to_end4(string)\n",
        "print(result)"
      ],
      "metadata": {
        "colab": {
          "base_uri": "https://localhost:8080/"
        },
        "id": "7LVVflj2bcYI",
        "outputId": "195e1533-5a1c-4a0d-e3c9-52b766d75395"
      },
      "execution_count": null,
      "outputs": [
        {
          "output_type": "stream",
          "name": "stdout",
          "text": [
            "222 \n"
          ]
        }
      ]
    },
    {
      "cell_type": "code",
      "source": [
        "data3['final_cts'] = data3['final_cts'].apply(remove_everything_from_character_to_end4)\n",
        "\n",
        "#data3['final_cts2'] = data3['final_cts2'].fillna(data3[\"CTS4\"])"
      ],
      "metadata": {
        "id": "S943mpQXbfuQ"
      },
      "execution_count": null,
      "outputs": []
    },
    {
      "cell_type": "code",
      "source": [
        "# trial-3 cts extraction:\n",
        "\n",
        "import re\n",
        "\n",
        "def remove_everything_from_character_to_end3(string):\n",
        "  character = \"Kachara.*\"\n",
        "\n",
        "  regex = character + \".*\"\n",
        "  return re.sub(regex, \"\", string)\n",
        "\n",
        "string = \"222 Kachara Number ifnjkwehukfhgfgfg.\"\n",
        "result = remove_everything_from_character_to_end3(string)\n",
        "print(result)"
      ],
      "metadata": {
        "colab": {
          "base_uri": "https://localhost:8080/"
        },
        "id": "UKos9Tp7bmZJ",
        "outputId": "a7df81c1-9890-4132-e6b9-cfa75ce19e8b"
      },
      "execution_count": null,
      "outputs": [
        {
          "output_type": "stream",
          "name": "stdout",
          "text": [
            "222 \n"
          ]
        }
      ]
    },
    {
      "cell_type": "code",
      "source": [
        "data3['final_cts'] = data3['final_cts'].apply(remove_everything_from_character_to_end3)\n",
        "\n",
        "#data3['final_cts2'] = data3['final_cts2'].fillna(data3[\"CTS3\"])"
      ],
      "metadata": {
        "id": "BWE4ajZZbnxA"
      },
      "execution_count": null,
      "outputs": []
    },
    {
      "cell_type": "code",
      "source": [
        "# trial-2 cts extraction:\n",
        "\n",
        "import re\n",
        "\n",
        "def remove_everything_from_character_to_end2(string):\n",
        "  character = \"Final.*\"\n",
        "\n",
        "  regex = character + \".*\"\n",
        "  return re.sub(regex, \"\", string)\n",
        "\n",
        "string = \"222 Final Number ifnjkwehukfhgfgfg.\"\n",
        "result = remove_everything_from_character_to_end2(string)\n",
        "print(result)"
      ],
      "metadata": {
        "colab": {
          "base_uri": "https://localhost:8080/"
        },
        "id": "oLd1j7EqbxK7",
        "outputId": "88e1b8db-de91-404e-f9fe-98fe8ec4b155"
      },
      "execution_count": null,
      "outputs": [
        {
          "output_type": "stream",
          "name": "stdout",
          "text": [
            "222 \n"
          ]
        }
      ]
    },
    {
      "cell_type": "code",
      "source": [
        "data3['final_cts'] = data3['final_cts'].apply(remove_everything_from_character_to_end2)\n",
        "\n",
        "#data3['final_cts2'] = data3['final_cts2'].fillna(data3[\"CTS2\"])"
      ],
      "metadata": {
        "id": "kExzvd1fb53K"
      },
      "execution_count": null,
      "outputs": []
    },
    {
      "cell_type": "code",
      "source": [
        "# trial-1 cts extraction:\n",
        "\n",
        "import re\n",
        "\n",
        "def remove_everything_from_character_to_end1(string):\n",
        "  character = \"Plot.*\"\n",
        "\n",
        "  regex = character + \".*\"\n",
        "  return re.sub(regex, \"\", string)\n",
        "\n",
        "string = \"214     Plot Number  602,610 ifnjkwehukfhgfgfg.\"\n",
        "result = remove_everything_from_character_to_end1(string)\n",
        "print(result)"
      ],
      "metadata": {
        "colab": {
          "base_uri": "https://localhost:8080/"
        },
        "id": "5gPMWk-Gb-vB",
        "outputId": "428bf758-57c5-4b6c-e0f5-ba25241625da"
      },
      "execution_count": null,
      "outputs": [
        {
          "output_type": "stream",
          "name": "stdout",
          "text": [
            "214     \n"
          ]
        }
      ]
    },
    {
      "cell_type": "code",
      "source": [
        "data3['final_cts'] = data3['final_cts'].apply(remove_everything_from_character_to_end1)\n",
        "\n",
        "#data3['final_cts2'] = data3['final_cts2'].fillna(data3[\"CTS1\"])"
      ],
      "metadata": {
        "id": "U_4S076utAt6"
      },
      "execution_count": null,
      "outputs": []
    },
    {
      "cell_type": "code",
      "source": [
        "# trial-10 cts extraction:\n",
        "\n",
        "import re\n",
        "\n",
        "def remove_everything_from_character_to_end10(string: str) -> str:\n",
        "  character = \"क्षेत्र.*\"\n",
        "\n",
        "  regex = character + \".*\"\n",
        "  return re.sub(regex,\"\", string)\n",
        "\n",
        "string = \"1895 क्षेत्र आहे. -----सदनिका नं  15 -अे, 15 वा माळा, बेल्वेदर कोर्ट, साने गुरुजी मार्ग, महालक्ष्मी  मुं 11.-------2 कारपार्कींग सहीत नं  103 व 108,\"\n",
        "result = remove_everything_from_character_to_end10(string)\n",
        "print(result)"
      ],
      "metadata": {
        "colab": {
          "base_uri": "https://localhost:8080/"
        },
        "id": "6tRkjPSes3Cy",
        "outputId": "92fc29e4-4416-4c6c-bf4b-2e94dbbd1495"
      },
      "execution_count": null,
      "outputs": [
        {
          "output_type": "stream",
          "name": "stdout",
          "text": [
            "1895 \n"
          ]
        }
      ]
    },
    {
      "cell_type": "code",
      "source": [
        "data3['final_cts'] = data3['final_cts'].apply(remove_everything_from_character_to_end10)\n",
        "\n",
        "#data3['final_cts2'] = data3['final_cts2'].fillna(data3[\"CTS10\"])"
      ],
      "metadata": {
        "id": "0R9v4AQrs9HC"
      },
      "execution_count": null,
      "outputs": []
    },
    {
      "cell_type": "code",
      "source": [
        "#data3['final_cts2'] = data3['final_cts2'].fillna(data3[\"final_cts\"])"
      ],
      "metadata": {
        "id": "5Fio1dfjcQF5"
      },
      "execution_count": null,
      "outputs": []
    },
    {
      "cell_type": "code",
      "source": [
        "data3"
      ],
      "metadata": {
        "colab": {
          "base_uri": "https://localhost:8080/",
          "height": 424
        },
        "id": "7ck8S_YDcc3y",
        "outputId": "e7a8acba-f8a3-479f-d98c-703713803a51"
      },
      "execution_count": null,
      "outputs": [
        {
          "output_type": "execute_result",
          "data": {
            "text/plain": [
              "                                               final_cts\n",
              "0       1840 पार्ट, सी ओ एस एम/ ए वाय/ 38/08 भरलेले म...\n",
              "1                                                   None\n",
              "2                                                   None\n",
              "3                                                 1310, \n",
              "4                                                - 1971 \n",
              "...                                                  ...\n",
              "37970                                       1902 ;  )  )\n",
              "37971                                        137 ;  )  )\n",
              "37972                                        000 ;  )  )\n",
              "37973                                       1910 ;  )  )\n",
              "37974                                       1960 ;  )  )\n",
              "\n",
              "[37975 rows x 1 columns]"
            ],
            "text/html": [
              "\n",
              "  <div id=\"df-7dee6676-3ed6-45bf-af58-b0f9d698b4df\" class=\"colab-df-container\">\n",
              "    <div>\n",
              "<style scoped>\n",
              "    .dataframe tbody tr th:only-of-type {\n",
              "        vertical-align: middle;\n",
              "    }\n",
              "\n",
              "    .dataframe tbody tr th {\n",
              "        vertical-align: top;\n",
              "    }\n",
              "\n",
              "    .dataframe thead th {\n",
              "        text-align: right;\n",
              "    }\n",
              "</style>\n",
              "<table border=\"1\" class=\"dataframe\">\n",
              "  <thead>\n",
              "    <tr style=\"text-align: right;\">\n",
              "      <th></th>\n",
              "      <th>final_cts</th>\n",
              "    </tr>\n",
              "  </thead>\n",
              "  <tbody>\n",
              "    <tr>\n",
              "      <th>0</th>\n",
              "      <td>1840 पार्ट, सी ओ एस एम/ ए वाय/ 38/08 भरलेले म...</td>\n",
              "    </tr>\n",
              "    <tr>\n",
              "      <th>1</th>\n",
              "      <td>None</td>\n",
              "    </tr>\n",
              "    <tr>\n",
              "      <th>2</th>\n",
              "      <td>None</td>\n",
              "    </tr>\n",
              "    <tr>\n",
              "      <th>3</th>\n",
              "      <td>1310,</td>\n",
              "    </tr>\n",
              "    <tr>\n",
              "      <th>4</th>\n",
              "      <td>- 1971</td>\n",
              "    </tr>\n",
              "    <tr>\n",
              "      <th>...</th>\n",
              "      <td>...</td>\n",
              "    </tr>\n",
              "    <tr>\n",
              "      <th>37970</th>\n",
              "      <td>1902 ;  )  )</td>\n",
              "    </tr>\n",
              "    <tr>\n",
              "      <th>37971</th>\n",
              "      <td>137 ;  )  )</td>\n",
              "    </tr>\n",
              "    <tr>\n",
              "      <th>37972</th>\n",
              "      <td>000 ;  )  )</td>\n",
              "    </tr>\n",
              "    <tr>\n",
              "      <th>37973</th>\n",
              "      <td>1910 ;  )  )</td>\n",
              "    </tr>\n",
              "    <tr>\n",
              "      <th>37974</th>\n",
              "      <td>1960 ;  )  )</td>\n",
              "    </tr>\n",
              "  </tbody>\n",
              "</table>\n",
              "<p>37975 rows × 1 columns</p>\n",
              "</div>\n",
              "    <div class=\"colab-df-buttons\">\n",
              "\n",
              "  <div class=\"colab-df-container\">\n",
              "    <button class=\"colab-df-convert\" onclick=\"convertToInteractive('df-7dee6676-3ed6-45bf-af58-b0f9d698b4df')\"\n",
              "            title=\"Convert this dataframe to an interactive table.\"\n",
              "            style=\"display:none;\">\n",
              "\n",
              "  <svg xmlns=\"http://www.w3.org/2000/svg\" height=\"24px\" viewBox=\"0 -960 960 960\">\n",
              "    <path d=\"M120-120v-720h720v720H120Zm60-500h600v-160H180v160Zm220 220h160v-160H400v160Zm0 220h160v-160H400v160ZM180-400h160v-160H180v160Zm440 0h160v-160H620v160ZM180-180h160v-160H180v160Zm440 0h160v-160H620v160Z\"/>\n",
              "  </svg>\n",
              "    </button>\n",
              "\n",
              "  <style>\n",
              "    .colab-df-container {\n",
              "      display:flex;\n",
              "      gap: 12px;\n",
              "    }\n",
              "\n",
              "    .colab-df-convert {\n",
              "      background-color: #E8F0FE;\n",
              "      border: none;\n",
              "      border-radius: 50%;\n",
              "      cursor: pointer;\n",
              "      display: none;\n",
              "      fill: #1967D2;\n",
              "      height: 32px;\n",
              "      padding: 0 0 0 0;\n",
              "      width: 32px;\n",
              "    }\n",
              "\n",
              "    .colab-df-convert:hover {\n",
              "      background-color: #E2EBFA;\n",
              "      box-shadow: 0px 1px 2px rgba(60, 64, 67, 0.3), 0px 1px 3px 1px rgba(60, 64, 67, 0.15);\n",
              "      fill: #174EA6;\n",
              "    }\n",
              "\n",
              "    .colab-df-buttons div {\n",
              "      margin-bottom: 4px;\n",
              "    }\n",
              "\n",
              "    [theme=dark] .colab-df-convert {\n",
              "      background-color: #3B4455;\n",
              "      fill: #D2E3FC;\n",
              "    }\n",
              "\n",
              "    [theme=dark] .colab-df-convert:hover {\n",
              "      background-color: #434B5C;\n",
              "      box-shadow: 0px 1px 3px 1px rgba(0, 0, 0, 0.15);\n",
              "      filter: drop-shadow(0px 1px 2px rgba(0, 0, 0, 0.3));\n",
              "      fill: #FFFFFF;\n",
              "    }\n",
              "  </style>\n",
              "\n",
              "    <script>\n",
              "      const buttonEl =\n",
              "        document.querySelector('#df-7dee6676-3ed6-45bf-af58-b0f9d698b4df button.colab-df-convert');\n",
              "      buttonEl.style.display =\n",
              "        google.colab.kernel.accessAllowed ? 'block' : 'none';\n",
              "\n",
              "      async function convertToInteractive(key) {\n",
              "        const element = document.querySelector('#df-7dee6676-3ed6-45bf-af58-b0f9d698b4df');\n",
              "        const dataTable =\n",
              "          await google.colab.kernel.invokeFunction('convertToInteractive',\n",
              "                                                    [key], {});\n",
              "        if (!dataTable) return;\n",
              "\n",
              "        const docLinkHtml = 'Like what you see? Visit the ' +\n",
              "          '<a target=\"_blank\" href=https://colab.research.google.com/notebooks/data_table.ipynb>data table notebook</a>'\n",
              "          + ' to learn more about interactive tables.';\n",
              "        element.innerHTML = '';\n",
              "        dataTable['output_type'] = 'display_data';\n",
              "        await google.colab.output.renderOutput(dataTable, element);\n",
              "        const docLink = document.createElement('div');\n",
              "        docLink.innerHTML = docLinkHtml;\n",
              "        element.appendChild(docLink);\n",
              "      }\n",
              "    </script>\n",
              "  </div>\n",
              "\n",
              "\n",
              "<div id=\"df-24786fa3-b83d-4b63-9aff-ab51cf360e54\">\n",
              "  <button class=\"colab-df-quickchart\" onclick=\"quickchart('df-24786fa3-b83d-4b63-9aff-ab51cf360e54')\"\n",
              "            title=\"Suggest charts.\"\n",
              "            style=\"display:none;\">\n",
              "\n",
              "<svg xmlns=\"http://www.w3.org/2000/svg\" height=\"24px\"viewBox=\"0 0 24 24\"\n",
              "     width=\"24px\">\n",
              "    <g>\n",
              "        <path d=\"M19 3H5c-1.1 0-2 .9-2 2v14c0 1.1.9 2 2 2h14c1.1 0 2-.9 2-2V5c0-1.1-.9-2-2-2zM9 17H7v-7h2v7zm4 0h-2V7h2v10zm4 0h-2v-4h2v4z\"/>\n",
              "    </g>\n",
              "</svg>\n",
              "  </button>\n",
              "\n",
              "<style>\n",
              "  .colab-df-quickchart {\n",
              "      --bg-color: #E8F0FE;\n",
              "      --fill-color: #1967D2;\n",
              "      --hover-bg-color: #E2EBFA;\n",
              "      --hover-fill-color: #174EA6;\n",
              "      --disabled-fill-color: #AAA;\n",
              "      --disabled-bg-color: #DDD;\n",
              "  }\n",
              "\n",
              "  [theme=dark] .colab-df-quickchart {\n",
              "      --bg-color: #3B4455;\n",
              "      --fill-color: #D2E3FC;\n",
              "      --hover-bg-color: #434B5C;\n",
              "      --hover-fill-color: #FFFFFF;\n",
              "      --disabled-bg-color: #3B4455;\n",
              "      --disabled-fill-color: #666;\n",
              "  }\n",
              "\n",
              "  .colab-df-quickchart {\n",
              "    background-color: var(--bg-color);\n",
              "    border: none;\n",
              "    border-radius: 50%;\n",
              "    cursor: pointer;\n",
              "    display: none;\n",
              "    fill: var(--fill-color);\n",
              "    height: 32px;\n",
              "    padding: 0;\n",
              "    width: 32px;\n",
              "  }\n",
              "\n",
              "  .colab-df-quickchart:hover {\n",
              "    background-color: var(--hover-bg-color);\n",
              "    box-shadow: 0 1px 2px rgba(60, 64, 67, 0.3), 0 1px 3px 1px rgba(60, 64, 67, 0.15);\n",
              "    fill: var(--button-hover-fill-color);\n",
              "  }\n",
              "\n",
              "  .colab-df-quickchart-complete:disabled,\n",
              "  .colab-df-quickchart-complete:disabled:hover {\n",
              "    background-color: var(--disabled-bg-color);\n",
              "    fill: var(--disabled-fill-color);\n",
              "    box-shadow: none;\n",
              "  }\n",
              "\n",
              "  .colab-df-spinner {\n",
              "    border: 2px solid var(--fill-color);\n",
              "    border-color: transparent;\n",
              "    border-bottom-color: var(--fill-color);\n",
              "    animation:\n",
              "      spin 1s steps(1) infinite;\n",
              "  }\n",
              "\n",
              "  @keyframes spin {\n",
              "    0% {\n",
              "      border-color: transparent;\n",
              "      border-bottom-color: var(--fill-color);\n",
              "      border-left-color: var(--fill-color);\n",
              "    }\n",
              "    20% {\n",
              "      border-color: transparent;\n",
              "      border-left-color: var(--fill-color);\n",
              "      border-top-color: var(--fill-color);\n",
              "    }\n",
              "    30% {\n",
              "      border-color: transparent;\n",
              "      border-left-color: var(--fill-color);\n",
              "      border-top-color: var(--fill-color);\n",
              "      border-right-color: var(--fill-color);\n",
              "    }\n",
              "    40% {\n",
              "      border-color: transparent;\n",
              "      border-right-color: var(--fill-color);\n",
              "      border-top-color: var(--fill-color);\n",
              "    }\n",
              "    60% {\n",
              "      border-color: transparent;\n",
              "      border-right-color: var(--fill-color);\n",
              "    }\n",
              "    80% {\n",
              "      border-color: transparent;\n",
              "      border-right-color: var(--fill-color);\n",
              "      border-bottom-color: var(--fill-color);\n",
              "    }\n",
              "    90% {\n",
              "      border-color: transparent;\n",
              "      border-bottom-color: var(--fill-color);\n",
              "    }\n",
              "  }\n",
              "</style>\n",
              "\n",
              "  <script>\n",
              "    async function quickchart(key) {\n",
              "      const quickchartButtonEl =\n",
              "        document.querySelector('#' + key + ' button');\n",
              "      quickchartButtonEl.disabled = true;  // To prevent multiple clicks.\n",
              "      quickchartButtonEl.classList.add('colab-df-spinner');\n",
              "      try {\n",
              "        const charts = await google.colab.kernel.invokeFunction(\n",
              "            'suggestCharts', [key], {});\n",
              "      } catch (error) {\n",
              "        console.error('Error during call to suggestCharts:', error);\n",
              "      }\n",
              "      quickchartButtonEl.classList.remove('colab-df-spinner');\n",
              "      quickchartButtonEl.classList.add('colab-df-quickchart-complete');\n",
              "    }\n",
              "    (() => {\n",
              "      let quickchartButtonEl =\n",
              "        document.querySelector('#df-24786fa3-b83d-4b63-9aff-ab51cf360e54 button');\n",
              "      quickchartButtonEl.style.display =\n",
              "        google.colab.kernel.accessAllowed ? 'block' : 'none';\n",
              "    })();\n",
              "  </script>\n",
              "</div>\n",
              "    </div>\n",
              "  </div>\n"
            ]
          },
          "metadata": {},
          "execution_count": 1134
        }
      ]
    },
    {
      "cell_type": "markdown",
      "source": [
        "CTS Right Cleaning_____** Part 2"
      ],
      "metadata": {
        "id": "YWxjiUsG6d-A"
      }
    },
    {
      "cell_type": "markdown",
      "source": [
        "Format Types\n",
        "\n",
        "11) सदनिका **\n",
        "\n",
        "12) दुकान **\n",
        "\n",
        "13) दस्तात **\n",
        "\n",
        "14) फ्ल्ॅट **\n",
        "\n",
        "15) रुम **\n",
        "\n",
        "16) गाळा **\n",
        "\n",
        "17) कालावधी  **\n",
        "\n",
        "18) ;  **\n",
        "\n",
        "19) भायखळा  **\n",
        "\n",
        "20) of **\n",
        "\n",
        "21) गोडाऊन **\n",
        "\n",
        "22) गाला **"
      ],
      "metadata": {
        "id": "anMd7UEn6hWA"
      }
    },
    {
      "cell_type": "code",
      "source": [
        "# trial-11 cts extraction:\n",
        "\n",
        "import re\n",
        "\n",
        "def remove_everything_from_character_to_end11(string: str) -> str:\n",
        "  character = \"सदनिका.*\"\n",
        "\n",
        "  regex = character + \".*\"\n",
        "  return re.sub(regex,\"\", string)\n",
        "\n",
        "string = \"1895 क्षेत्र आहे. -----सदनिका नं  15 -अे, 15 वा माळा, बेल्वेदर कोर्ट, साने गुरुजी मार्ग, महालक्ष्मी  मुं 11.-------2 कारपार्कींग सहीत नं  103 व 108,\"\n",
        "result = remove_everything_from_character_to_end11(string)\n",
        "print(result)"
      ],
      "metadata": {
        "colab": {
          "base_uri": "https://localhost:8080/"
        },
        "id": "OUclgug16Wi8",
        "outputId": "a77c6445-5ec6-4ffa-8ac8-ef5a4c54c54f"
      },
      "execution_count": null,
      "outputs": [
        {
          "output_type": "stream",
          "name": "stdout",
          "text": [
            "1895 क्षेत्र आहे. -----\n"
          ]
        }
      ]
    },
    {
      "cell_type": "code",
      "source": [
        "data3['final_cts'] = data3['final_cts'].apply(remove_everything_from_character_to_end11)"
      ],
      "metadata": {
        "id": "L3xAVp817hUT"
      },
      "execution_count": null,
      "outputs": []
    },
    {
      "cell_type": "code",
      "source": [
        "# trial-12 cts extraction:\n",
        "\n",
        "import re\n",
        "\n",
        "def remove_everything_from_character_to_end12(string: str) -> str:\n",
        "  character = \"दुकान.*\"\n",
        "\n",
        "  regex = character + \".*\"\n",
        "  return re.sub(regex,\"\", string)\n",
        "\n",
        "string = \"1895 क्षेत्र आहे. -----सदनिका नं  15 -अे, 15 वा माळा, बेल्वेदर कोर्ट, साने गुरुजी मार्ग, महालक्ष्मी  मुं 11.-------2 कारपार्कींग सहीत नं  103 व 108,\"\n",
        "result = remove_everything_from_character_to_end12(string)\n",
        "print(result)"
      ],
      "metadata": {
        "colab": {
          "base_uri": "https://localhost:8080/"
        },
        "id": "Qn4eaWYq7wkC",
        "outputId": "5c803fd8-5ffd-4b7c-d386-592027d38094"
      },
      "execution_count": null,
      "outputs": [
        {
          "output_type": "stream",
          "name": "stdout",
          "text": [
            "1895 क्षेत्र आहे. -----सदनिका नं  15 -अे, 15 वा माळा, बेल्वेदर कोर्ट, साने गुरुजी मार्ग, महालक्ष्मी  मुं 11.-------2 कारपार्कींग सहीत नं  103 व 108,\n"
          ]
        }
      ]
    },
    {
      "cell_type": "code",
      "source": [
        "data3['final_cts'] = data3['final_cts'].apply(remove_everything_from_character_to_end12)"
      ],
      "metadata": {
        "id": "H3uIJoVU7zTi"
      },
      "execution_count": null,
      "outputs": []
    },
    {
      "cell_type": "code",
      "source": [
        "# trial-13 cts extraction:\n",
        "\n",
        "import re\n",
        "\n",
        "def remove_everything_from_character_to_end13(string: str) -> str:\n",
        "  character = \"दस्तात.*\"\n",
        "\n",
        "  regex = character + \".*\"\n",
        "  return re.sub(regex,\"\", string)\n",
        "\n",
        "string = \"1895 क्षेत्र आहे. -----सदनिका नं  15 -अे, 15 वा माळा, बेल्वेदर कोर्ट, साने गुरुजी मार्ग, महालक्ष्मी  मुं 11.-------2 कारपार्कींग सहीत नं  103 व 108,\"\n",
        "result = remove_everything_from_character_to_end13(string)\n",
        "print(result)"
      ],
      "metadata": {
        "colab": {
          "base_uri": "https://localhost:8080/"
        },
        "id": "k8HAHdDt7_ua",
        "outputId": "acd46ffe-c9f1-4ecb-a496-2e5262c815b5"
      },
      "execution_count": null,
      "outputs": [
        {
          "output_type": "stream",
          "name": "stdout",
          "text": [
            "1895 क्षेत्र आहे. -----सदनिका नं  15 -अे, 15 वा माळा, बेल्वेदर कोर्ट, साने गुरुजी मार्ग, महालक्ष्मी  मुं 11.-------2 कारपार्कींग सहीत नं  103 व 108,\n"
          ]
        }
      ]
    },
    {
      "cell_type": "code",
      "source": [
        "data3['final_cts'] = data3['final_cts'].apply(remove_everything_from_character_to_end13)"
      ],
      "metadata": {
        "id": "jCF_Npfw8FV7"
      },
      "execution_count": null,
      "outputs": []
    },
    {
      "cell_type": "code",
      "source": [
        "# trial-14 cts extraction:\n",
        "\n",
        "import re\n",
        "\n",
        "def remove_everything_from_character_to_end14(string: str) -> str:\n",
        "  character = \"फ्ल्ॅट.*\"\n",
        "\n",
        "  regex = character + \".*\"\n",
        "  return re.sub(regex,\"\", string)\n",
        "\n",
        "string = \"1895 क्षेत्र आहे. -----सदनिका नं  15 -अे, 15 वा माळा, बेल्वेदर कोर्ट, साने गुरुजी मार्ग, महालक्ष्मी  मुं 11.-------2 कारपार्कींग सहीत नं  103 व 108,\"\n",
        "result = remove_everything_from_character_to_end14(string)\n",
        "print(result)"
      ],
      "metadata": {
        "colab": {
          "base_uri": "https://localhost:8080/"
        },
        "id": "uIvRvFeh8Idr",
        "outputId": "9035aa0b-ef0d-46f9-f9d1-f7d9406ebddb"
      },
      "execution_count": null,
      "outputs": [
        {
          "output_type": "stream",
          "name": "stdout",
          "text": [
            "1895 क्षेत्र आहे. -----सदनिका नं  15 -अे, 15 वा माळा, बेल्वेदर कोर्ट, साने गुरुजी मार्ग, महालक्ष्मी  मुं 11.-------2 कारपार्कींग सहीत नं  103 व 108,\n"
          ]
        }
      ]
    },
    {
      "cell_type": "code",
      "source": [
        "data3['final_cts'] = data3['final_cts'].apply(remove_everything_from_character_to_end14)"
      ],
      "metadata": {
        "id": "KXXHsP-U8aO1"
      },
      "execution_count": null,
      "outputs": []
    },
    {
      "cell_type": "code",
      "source": [
        "# trial-15 cts extraction:\n",
        "\n",
        "import re\n",
        "\n",
        "def remove_everything_from_character_to_end15(string: str) -> str:\n",
        "  character = \"रुम.*\"\n",
        "\n",
        "  regex = character + \".*\"\n",
        "  return re.sub(regex,\"\", string)\n",
        "\n",
        "string = \"1895 क्षेत्र आहे. -----सदनिका नं  15 -अे, 15 वा माळा, बेल्वेदर कोर्ट, साने गुरुजी मार्ग, महालक्ष्मी  मुं 11.-------2 कारपार्कींग सहीत नं  103 व 108,\"\n",
        "result = remove_everything_from_character_to_end15(string)\n",
        "print(result)"
      ],
      "metadata": {
        "colab": {
          "base_uri": "https://localhost:8080/"
        },
        "id": "KOpEEqXh8d6L",
        "outputId": "280108c4-b126-4c48-ec9a-f271f7b926d1"
      },
      "execution_count": null,
      "outputs": [
        {
          "output_type": "stream",
          "name": "stdout",
          "text": [
            "1895 क्षेत्र आहे. -----सदनिका नं  15 -अे, 15 वा माळा, बेल्वेदर कोर्ट, साने गुरुजी मार्ग, महालक्ष्मी  मुं 11.-------2 कारपार्कींग सहीत नं  103 व 108,\n"
          ]
        }
      ]
    },
    {
      "cell_type": "code",
      "source": [
        "data3['final_cts'] = data3['final_cts'].apply(remove_everything_from_character_to_end15)"
      ],
      "metadata": {
        "id": "sIqpxJEL8lnS"
      },
      "execution_count": null,
      "outputs": []
    },
    {
      "cell_type": "code",
      "source": [
        "# trial-16 cts extraction:\n",
        "\n",
        "import re\n",
        "\n",
        "def remove_everything_from_character_to_end16(string: str) -> str:\n",
        "  character = \"गाळा.*\"\n",
        "\n",
        "  regex = character + \".*\"\n",
        "  return re.sub(regex,\"\", string)\n",
        "\n",
        "string = \"1895 क्षेत्र आहे. -----सदनिका नं  15 -अे, 15 वा माळा, बेल्वेदर कोर्ट, साने गुरुजी मार्ग, महालक्ष्मी  मुं 11.-------2 कारपार्कींग सहीत नं  103 व 108,\"\n",
        "result = remove_everything_from_character_to_end16(string)\n",
        "print(result)"
      ],
      "metadata": {
        "colab": {
          "base_uri": "https://localhost:8080/"
        },
        "id": "sHpBCTsc-kkD",
        "outputId": "4c05d972-ebb8-4acd-9308-5074977718cd"
      },
      "execution_count": null,
      "outputs": [
        {
          "output_type": "stream",
          "name": "stdout",
          "text": [
            "1895 क्षेत्र आहे. -----सदनिका नं  15 -अे, 15 वा माळा, बेल्वेदर कोर्ट, साने गुरुजी मार्ग, महालक्ष्मी  मुं 11.-------2 कारपार्कींग सहीत नं  103 व 108,\n"
          ]
        }
      ]
    },
    {
      "cell_type": "code",
      "source": [
        "data3['final_cts'] = data3['final_cts'].apply(remove_everything_from_character_to_end16)"
      ],
      "metadata": {
        "id": "uUmujEey-o3D"
      },
      "execution_count": null,
      "outputs": []
    },
    {
      "cell_type": "code",
      "source": [
        "# trial-17 cts extraction:\n",
        "\n",
        "import re\n",
        "\n",
        "def remove_everything_from_character_to_end17(string: str) -> str:\n",
        "  character = \"कालावधी.*\"\n",
        "\n",
        "  regex = character + \".*\"\n",
        "  return re.sub(regex,\"\", string)\n",
        "\n",
        "string = \"1895 क्षेत्र आहे. -----सदनिका नं  15 -अे, 15 वा माळा, बेल्वेदर कोर्ट, साने गुरुजी मार्ग, महालक्ष्मी  मुं 11.-------2 कारपार्कींग सहीत नं  103 व 108,\"\n",
        "result = remove_everything_from_character_to_end17(string)\n",
        "print(result)"
      ],
      "metadata": {
        "colab": {
          "base_uri": "https://localhost:8080/"
        },
        "id": "7Eau_NbM-0Hc",
        "outputId": "41aae1f7-1574-434e-8e1c-713bc8031ccb"
      },
      "execution_count": null,
      "outputs": [
        {
          "output_type": "stream",
          "name": "stdout",
          "text": [
            "1895 क्षेत्र आहे. -----सदनिका नं  15 -अे, 15 वा माळा, बेल्वेदर कोर्ट, साने गुरुजी मार्ग, महालक्ष्मी  मुं 11.-------2 कारपार्कींग सहीत नं  103 व 108,\n"
          ]
        }
      ]
    },
    {
      "cell_type": "code",
      "source": [
        "data3['final_cts'] = data3['final_cts'].apply(remove_everything_from_character_to_end17)"
      ],
      "metadata": {
        "id": "WP24EUSm-4xd"
      },
      "execution_count": null,
      "outputs": []
    },
    {
      "cell_type": "code",
      "source": [
        "# trial-18 cts extraction:\n",
        "\n",
        "import re\n",
        "\n",
        "def remove_everything_from_character_to_end18(string: str) -> str:\n",
        "  character = \";.*\"\n",
        "\n",
        "  regex = character + \".*\"\n",
        "  return re.sub(regex,\"\", string)\n",
        "\n",
        "string = \"2/1878 ; )\"\n",
        "result = remove_everything_from_character_to_end18(string)\n",
        "print(result)"
      ],
      "metadata": {
        "colab": {
          "base_uri": "https://localhost:8080/"
        },
        "id": "PLVkRCeU_Ao0",
        "outputId": "9c18e947-fcf2-4cfc-bafd-c2aca7047855"
      },
      "execution_count": null,
      "outputs": [
        {
          "output_type": "stream",
          "name": "stdout",
          "text": [
            "2/1878 \n"
          ]
        }
      ]
    },
    {
      "cell_type": "code",
      "source": [
        "data3['final_cts'] = data3['final_cts'].apply(remove_everything_from_character_to_end18)"
      ],
      "metadata": {
        "id": "dEP8Kyq-C0qN"
      },
      "execution_count": null,
      "outputs": []
    },
    {
      "cell_type": "code",
      "source": [
        "# trial-19 cts extraction:\n",
        "\n",
        "import re\n",
        "\n",
        "def remove_everything_from_character_to_end19(string: str) -> str:\n",
        "  character = \"भायखळा.*\"\n",
        "\n",
        "  regex = character + \".*\"\n",
        "  return re.sub(regex,\"\", string)\n",
        "\n",
        "string = \"2/1878 ; )\"\n",
        "result = remove_everything_from_character_to_end19(string)\n",
        "print(result)"
      ],
      "metadata": {
        "colab": {
          "base_uri": "https://localhost:8080/"
        },
        "id": "UnwbT8JXGdxc",
        "outputId": "35da1200-60d8-43ca-91cd-e219928db4ce"
      },
      "execution_count": null,
      "outputs": [
        {
          "output_type": "stream",
          "name": "stdout",
          "text": [
            "2/1878 ; )\n"
          ]
        }
      ]
    },
    {
      "cell_type": "code",
      "source": [
        "data3['final_cts'] = data3['final_cts'].apply(remove_everything_from_character_to_end19)"
      ],
      "metadata": {
        "id": "AGVEYxcTGn7V"
      },
      "execution_count": null,
      "outputs": []
    },
    {
      "cell_type": "code",
      "source": [
        "# trial-20 cts extraction:\n",
        "\n",
        "import re\n",
        "\n",
        "def remove_everything_from_character_to_end20(string: str) -> str:\n",
        "  character = \"of.*\"\n",
        "\n",
        "  regex = character + \".*\"\n",
        "  return re.sub(regex,\"\", string)\n",
        "\n",
        "string = \"2/1878 ; )\"\n",
        "result = remove_everything_from_character_to_end20(string)\n",
        "print(result)"
      ],
      "metadata": {
        "colab": {
          "base_uri": "https://localhost:8080/"
        },
        "id": "FeS14N95GscM",
        "outputId": "771ec00c-85e7-4d6c-fa53-3ae49962dfc4"
      },
      "execution_count": null,
      "outputs": [
        {
          "output_type": "stream",
          "name": "stdout",
          "text": [
            "2/1878 ; )\n"
          ]
        }
      ]
    },
    {
      "cell_type": "code",
      "source": [
        "data3['final_cts'] = data3['final_cts'].apply(remove_everything_from_character_to_end20)"
      ],
      "metadata": {
        "id": "DDahMsYhGyH3"
      },
      "execution_count": null,
      "outputs": []
    },
    {
      "cell_type": "code",
      "source": [
        "# trial-21 cts extraction:\n",
        "\n",
        "import re\n",
        "\n",
        "def remove_everything_from_character_to_end21(string: str) -> str:\n",
        "  character = \"गोडाऊन.*\"\n",
        "\n",
        "  regex = character + \".*\"\n",
        "  return re.sub(regex,\"\", string)\n",
        "\n",
        "string = \"2/1878 ; )\"\n",
        "result = remove_everything_from_character_to_end21(string)\n",
        "print(result)"
      ],
      "metadata": {
        "colab": {
          "base_uri": "https://localhost:8080/"
        },
        "id": "1800-14wM-FG",
        "outputId": "6c0893cc-3837-424c-b005-2fa4fc23c05c"
      },
      "execution_count": null,
      "outputs": [
        {
          "output_type": "stream",
          "name": "stdout",
          "text": [
            "2/1878 ; )\n"
          ]
        }
      ]
    },
    {
      "cell_type": "code",
      "source": [
        "data3['final_cts'] = data3['final_cts'].apply(remove_everything_from_character_to_end21)"
      ],
      "metadata": {
        "id": "5i0WscfXNB4N"
      },
      "execution_count": null,
      "outputs": []
    },
    {
      "cell_type": "code",
      "source": [
        "# trial-22 cts extraction:\n",
        "\n",
        "import re\n",
        "\n",
        "def remove_everything_from_character_to_end22(string: str) -> str:\n",
        "  character = \"गाला.*\"\n",
        "\n",
        "  regex = character + \".*\"\n",
        "  return re.sub(regex,\"\", string)\n",
        "\n",
        "string = \"2/1878 ; )\"\n",
        "result = remove_everything_from_character_to_end22(string)\n",
        "print(result)"
      ],
      "metadata": {
        "colab": {
          "base_uri": "https://localhost:8080/"
        },
        "id": "PVImCWAbOzD0",
        "outputId": "a6b06ae6-7739-4b04-a9e5-3d25b2674d58"
      },
      "execution_count": null,
      "outputs": [
        {
          "output_type": "stream",
          "name": "stdout",
          "text": [
            "2/1878 ; )\n"
          ]
        }
      ]
    },
    {
      "cell_type": "code",
      "source": [
        "data3['final_cts'] = data3['final_cts'].apply(remove_everything_from_character_to_end22)"
      ],
      "metadata": {
        "id": "JjV4SVdKO1hk"
      },
      "execution_count": null,
      "outputs": []
    },
    {
      "cell_type": "code",
      "source": [
        "data3['final_cts'] = data3['final_cts'].str.strip()\n",
        "data3['final_cts'] = data3['final_cts'].str.strip(\"-\")\n",
        "data3['final_cts'] = data3['final_cts'].str.strip(\",\")"
      ],
      "metadata": {
        "id": "2uS0ZEj_MaEl"
      },
      "execution_count": null,
      "outputs": []
    },
    {
      "cell_type": "code",
      "source": [
        "data4 = data2[\"Land building info\"]\n",
        "data4 = pd.DataFrame(data4)\n",
        "data4 = data4.assign(final_cts=None)\n",
        "data4[\"final_cts\"] = data3[\"final_cts\"]"
      ],
      "metadata": {
        "id": "9zhN_6NZ7lzz"
      },
      "execution_count": null,
      "outputs": []
    },
    {
      "cell_type": "code",
      "source": [
        "data4"
      ],
      "metadata": {
        "colab": {
          "base_uri": "https://localhost:8080/",
          "height": 424
        },
        "id": "Bwu9umS67qgC",
        "outputId": "9cb034c5-d691-43d9-e475-ffbbcaad858c"
      },
      "execution_count": null,
      "outputs": [
        {
          "output_type": "execute_result",
          "data": {
            "text/plain": [
              "                                      Land building info  \\\n",
              "0      पालिकेचे नाव:इतर वर्णन :सि एस नं 1840 पार्ट, स...   \n",
              "1      पालिकेचे नाव:इतर वर्णन :जमिन व बांधकाम , टेापी...   \n",
              "2      पालिकेचे नाव:इतर वर्णन :डिलाईल रेाड क्रॉस लेन ...   \n",
              "3      पालिकेचे नाव:इतर वर्णन :सि एस नं 1310, क्षेत्र...   \n",
              "4      पालिकेचे नाव:इतर वर्णन :सदनिका नं 501, 5 वा मज...   \n",
              "...                                                  ...   \n",
              "37970  1)पालिकेचे नाव:मुंबई मनपाइतर वर्णन :, इतर  माह...   \n",
              "37971  1)पालिकेचे नाव:मुंबई मनपाइतर वर्णन :, इतर  माह...   \n",
              "37972  1)पालिकेचे नाव:मुंबई मनपाइतर वर्णन :सदनिका नं:...   \n",
              "37973  1)पालिकेचे नाव:मुंबई मनपाइतर वर्णन :सदनिका नं:...   \n",
              "37974  1)पालिकेचे नाव:मुंबई मनपाइतर वर्णन :, इतर  माह...   \n",
              "\n",
              "                                               final_cts  \n",
              "0      1840 पार्ट, सी ओ एस एम/ ए वाय/ 38/08 भरलेले मु...  \n",
              "1                                                   None  \n",
              "2                                                   None  \n",
              "3                                                   1310  \n",
              "4                                                   1971  \n",
              "...                                                  ...  \n",
              "37970                                               1902  \n",
              "37971                                                137  \n",
              "37972                                                000  \n",
              "37973                                               1910  \n",
              "37974                                               1960  \n",
              "\n",
              "[37975 rows x 2 columns]"
            ],
            "text/html": [
              "\n",
              "  <div id=\"df-97761919-e5bf-4c0a-b49b-bbaab3d0208a\" class=\"colab-df-container\">\n",
              "    <div>\n",
              "<style scoped>\n",
              "    .dataframe tbody tr th:only-of-type {\n",
              "        vertical-align: middle;\n",
              "    }\n",
              "\n",
              "    .dataframe tbody tr th {\n",
              "        vertical-align: top;\n",
              "    }\n",
              "\n",
              "    .dataframe thead th {\n",
              "        text-align: right;\n",
              "    }\n",
              "</style>\n",
              "<table border=\"1\" class=\"dataframe\">\n",
              "  <thead>\n",
              "    <tr style=\"text-align: right;\">\n",
              "      <th></th>\n",
              "      <th>Land building info</th>\n",
              "      <th>final_cts</th>\n",
              "    </tr>\n",
              "  </thead>\n",
              "  <tbody>\n",
              "    <tr>\n",
              "      <th>0</th>\n",
              "      <td>पालिकेचे नाव:इतर वर्णन :सि एस नं 1840 पार्ट, स...</td>\n",
              "      <td>1840 पार्ट, सी ओ एस एम/ ए वाय/ 38/08 भरलेले मु...</td>\n",
              "    </tr>\n",
              "    <tr>\n",
              "      <th>1</th>\n",
              "      <td>पालिकेचे नाव:इतर वर्णन :जमिन व बांधकाम , टेापी...</td>\n",
              "      <td>None</td>\n",
              "    </tr>\n",
              "    <tr>\n",
              "      <th>2</th>\n",
              "      <td>पालिकेचे नाव:इतर वर्णन :डिलाईल रेाड क्रॉस लेन ...</td>\n",
              "      <td>None</td>\n",
              "    </tr>\n",
              "    <tr>\n",
              "      <th>3</th>\n",
              "      <td>पालिकेचे नाव:इतर वर्णन :सि एस नं 1310, क्षेत्र...</td>\n",
              "      <td>1310</td>\n",
              "    </tr>\n",
              "    <tr>\n",
              "      <th>4</th>\n",
              "      <td>पालिकेचे नाव:इतर वर्णन :सदनिका नं 501, 5 वा मज...</td>\n",
              "      <td>1971</td>\n",
              "    </tr>\n",
              "    <tr>\n",
              "      <th>...</th>\n",
              "      <td>...</td>\n",
              "      <td>...</td>\n",
              "    </tr>\n",
              "    <tr>\n",
              "      <th>37970</th>\n",
              "      <td>1)पालिकेचे नाव:मुंबई मनपाइतर वर्णन :, इतर  माह...</td>\n",
              "      <td>1902</td>\n",
              "    </tr>\n",
              "    <tr>\n",
              "      <th>37971</th>\n",
              "      <td>1)पालिकेचे नाव:मुंबई मनपाइतर वर्णन :, इतर  माह...</td>\n",
              "      <td>137</td>\n",
              "    </tr>\n",
              "    <tr>\n",
              "      <th>37972</th>\n",
              "      <td>1)पालिकेचे नाव:मुंबई मनपाइतर वर्णन :सदनिका नं:...</td>\n",
              "      <td>000</td>\n",
              "    </tr>\n",
              "    <tr>\n",
              "      <th>37973</th>\n",
              "      <td>1)पालिकेचे नाव:मुंबई मनपाइतर वर्णन :सदनिका नं:...</td>\n",
              "      <td>1910</td>\n",
              "    </tr>\n",
              "    <tr>\n",
              "      <th>37974</th>\n",
              "      <td>1)पालिकेचे नाव:मुंबई मनपाइतर वर्णन :, इतर  माह...</td>\n",
              "      <td>1960</td>\n",
              "    </tr>\n",
              "  </tbody>\n",
              "</table>\n",
              "<p>37975 rows × 2 columns</p>\n",
              "</div>\n",
              "    <div class=\"colab-df-buttons\">\n",
              "\n",
              "  <div class=\"colab-df-container\">\n",
              "    <button class=\"colab-df-convert\" onclick=\"convertToInteractive('df-97761919-e5bf-4c0a-b49b-bbaab3d0208a')\"\n",
              "            title=\"Convert this dataframe to an interactive table.\"\n",
              "            style=\"display:none;\">\n",
              "\n",
              "  <svg xmlns=\"http://www.w3.org/2000/svg\" height=\"24px\" viewBox=\"0 -960 960 960\">\n",
              "    <path d=\"M120-120v-720h720v720H120Zm60-500h600v-160H180v160Zm220 220h160v-160H400v160Zm0 220h160v-160H400v160ZM180-400h160v-160H180v160Zm440 0h160v-160H620v160ZM180-180h160v-160H180v160Zm440 0h160v-160H620v160Z\"/>\n",
              "  </svg>\n",
              "    </button>\n",
              "\n",
              "  <style>\n",
              "    .colab-df-container {\n",
              "      display:flex;\n",
              "      gap: 12px;\n",
              "    }\n",
              "\n",
              "    .colab-df-convert {\n",
              "      background-color: #E8F0FE;\n",
              "      border: none;\n",
              "      border-radius: 50%;\n",
              "      cursor: pointer;\n",
              "      display: none;\n",
              "      fill: #1967D2;\n",
              "      height: 32px;\n",
              "      padding: 0 0 0 0;\n",
              "      width: 32px;\n",
              "    }\n",
              "\n",
              "    .colab-df-convert:hover {\n",
              "      background-color: #E2EBFA;\n",
              "      box-shadow: 0px 1px 2px rgba(60, 64, 67, 0.3), 0px 1px 3px 1px rgba(60, 64, 67, 0.15);\n",
              "      fill: #174EA6;\n",
              "    }\n",
              "\n",
              "    .colab-df-buttons div {\n",
              "      margin-bottom: 4px;\n",
              "    }\n",
              "\n",
              "    [theme=dark] .colab-df-convert {\n",
              "      background-color: #3B4455;\n",
              "      fill: #D2E3FC;\n",
              "    }\n",
              "\n",
              "    [theme=dark] .colab-df-convert:hover {\n",
              "      background-color: #434B5C;\n",
              "      box-shadow: 0px 1px 3px 1px rgba(0, 0, 0, 0.15);\n",
              "      filter: drop-shadow(0px 1px 2px rgba(0, 0, 0, 0.3));\n",
              "      fill: #FFFFFF;\n",
              "    }\n",
              "  </style>\n",
              "\n",
              "    <script>\n",
              "      const buttonEl =\n",
              "        document.querySelector('#df-97761919-e5bf-4c0a-b49b-bbaab3d0208a button.colab-df-convert');\n",
              "      buttonEl.style.display =\n",
              "        google.colab.kernel.accessAllowed ? 'block' : 'none';\n",
              "\n",
              "      async function convertToInteractive(key) {\n",
              "        const element = document.querySelector('#df-97761919-e5bf-4c0a-b49b-bbaab3d0208a');\n",
              "        const dataTable =\n",
              "          await google.colab.kernel.invokeFunction('convertToInteractive',\n",
              "                                                    [key], {});\n",
              "        if (!dataTable) return;\n",
              "\n",
              "        const docLinkHtml = 'Like what you see? Visit the ' +\n",
              "          '<a target=\"_blank\" href=https://colab.research.google.com/notebooks/data_table.ipynb>data table notebook</a>'\n",
              "          + ' to learn more about interactive tables.';\n",
              "        element.innerHTML = '';\n",
              "        dataTable['output_type'] = 'display_data';\n",
              "        await google.colab.output.renderOutput(dataTable, element);\n",
              "        const docLink = document.createElement('div');\n",
              "        docLink.innerHTML = docLinkHtml;\n",
              "        element.appendChild(docLink);\n",
              "      }\n",
              "    </script>\n",
              "  </div>\n",
              "\n",
              "\n",
              "<div id=\"df-26d3c66e-d8b5-4ae3-a4d5-35e52698264a\">\n",
              "  <button class=\"colab-df-quickchart\" onclick=\"quickchart('df-26d3c66e-d8b5-4ae3-a4d5-35e52698264a')\"\n",
              "            title=\"Suggest charts.\"\n",
              "            style=\"display:none;\">\n",
              "\n",
              "<svg xmlns=\"http://www.w3.org/2000/svg\" height=\"24px\"viewBox=\"0 0 24 24\"\n",
              "     width=\"24px\">\n",
              "    <g>\n",
              "        <path d=\"M19 3H5c-1.1 0-2 .9-2 2v14c0 1.1.9 2 2 2h14c1.1 0 2-.9 2-2V5c0-1.1-.9-2-2-2zM9 17H7v-7h2v7zm4 0h-2V7h2v10zm4 0h-2v-4h2v4z\"/>\n",
              "    </g>\n",
              "</svg>\n",
              "  </button>\n",
              "\n",
              "<style>\n",
              "  .colab-df-quickchart {\n",
              "      --bg-color: #E8F0FE;\n",
              "      --fill-color: #1967D2;\n",
              "      --hover-bg-color: #E2EBFA;\n",
              "      --hover-fill-color: #174EA6;\n",
              "      --disabled-fill-color: #AAA;\n",
              "      --disabled-bg-color: #DDD;\n",
              "  }\n",
              "\n",
              "  [theme=dark] .colab-df-quickchart {\n",
              "      --bg-color: #3B4455;\n",
              "      --fill-color: #D2E3FC;\n",
              "      --hover-bg-color: #434B5C;\n",
              "      --hover-fill-color: #FFFFFF;\n",
              "      --disabled-bg-color: #3B4455;\n",
              "      --disabled-fill-color: #666;\n",
              "  }\n",
              "\n",
              "  .colab-df-quickchart {\n",
              "    background-color: var(--bg-color);\n",
              "    border: none;\n",
              "    border-radius: 50%;\n",
              "    cursor: pointer;\n",
              "    display: none;\n",
              "    fill: var(--fill-color);\n",
              "    height: 32px;\n",
              "    padding: 0;\n",
              "    width: 32px;\n",
              "  }\n",
              "\n",
              "  .colab-df-quickchart:hover {\n",
              "    background-color: var(--hover-bg-color);\n",
              "    box-shadow: 0 1px 2px rgba(60, 64, 67, 0.3), 0 1px 3px 1px rgba(60, 64, 67, 0.15);\n",
              "    fill: var(--button-hover-fill-color);\n",
              "  }\n",
              "\n",
              "  .colab-df-quickchart-complete:disabled,\n",
              "  .colab-df-quickchart-complete:disabled:hover {\n",
              "    background-color: var(--disabled-bg-color);\n",
              "    fill: var(--disabled-fill-color);\n",
              "    box-shadow: none;\n",
              "  }\n",
              "\n",
              "  .colab-df-spinner {\n",
              "    border: 2px solid var(--fill-color);\n",
              "    border-color: transparent;\n",
              "    border-bottom-color: var(--fill-color);\n",
              "    animation:\n",
              "      spin 1s steps(1) infinite;\n",
              "  }\n",
              "\n",
              "  @keyframes spin {\n",
              "    0% {\n",
              "      border-color: transparent;\n",
              "      border-bottom-color: var(--fill-color);\n",
              "      border-left-color: var(--fill-color);\n",
              "    }\n",
              "    20% {\n",
              "      border-color: transparent;\n",
              "      border-left-color: var(--fill-color);\n",
              "      border-top-color: var(--fill-color);\n",
              "    }\n",
              "    30% {\n",
              "      border-color: transparent;\n",
              "      border-left-color: var(--fill-color);\n",
              "      border-top-color: var(--fill-color);\n",
              "      border-right-color: var(--fill-color);\n",
              "    }\n",
              "    40% {\n",
              "      border-color: transparent;\n",
              "      border-right-color: var(--fill-color);\n",
              "      border-top-color: var(--fill-color);\n",
              "    }\n",
              "    60% {\n",
              "      border-color: transparent;\n",
              "      border-right-color: var(--fill-color);\n",
              "    }\n",
              "    80% {\n",
              "      border-color: transparent;\n",
              "      border-right-color: var(--fill-color);\n",
              "      border-bottom-color: var(--fill-color);\n",
              "    }\n",
              "    90% {\n",
              "      border-color: transparent;\n",
              "      border-bottom-color: var(--fill-color);\n",
              "    }\n",
              "  }\n",
              "</style>\n",
              "\n",
              "  <script>\n",
              "    async function quickchart(key) {\n",
              "      const quickchartButtonEl =\n",
              "        document.querySelector('#' + key + ' button');\n",
              "      quickchartButtonEl.disabled = true;  // To prevent multiple clicks.\n",
              "      quickchartButtonEl.classList.add('colab-df-spinner');\n",
              "      try {\n",
              "        const charts = await google.colab.kernel.invokeFunction(\n",
              "            'suggestCharts', [key], {});\n",
              "      } catch (error) {\n",
              "        console.error('Error during call to suggestCharts:', error);\n",
              "      }\n",
              "      quickchartButtonEl.classList.remove('colab-df-spinner');\n",
              "      quickchartButtonEl.classList.add('colab-df-quickchart-complete');\n",
              "    }\n",
              "    (() => {\n",
              "      let quickchartButtonEl =\n",
              "        document.querySelector('#df-26d3c66e-d8b5-4ae3-a4d5-35e52698264a button');\n",
              "      quickchartButtonEl.style.display =\n",
              "        google.colab.kernel.accessAllowed ? 'block' : 'none';\n",
              "    })();\n",
              "  </script>\n",
              "</div>\n",
              "    </div>\n",
              "  </div>\n"
            ]
          },
          "metadata": {},
          "execution_count": 1161
        }
      ]
    },
    {
      "cell_type": "code",
      "source": [
        "from google.colab import files\n",
        "# Export the DataFrame to Excel\n",
        "with open('Byculla_final.xlsx', 'wb') as f:\n",
        "    data4.to_excel(f, index=False)\n",
        "\n",
        "# Download the Excel file\n",
        "files.download('Byculla_final.xlsx')"
      ],
      "metadata": {
        "colab": {
          "base_uri": "https://localhost:8080/",
          "height": 17
        },
        "id": "Ptq88A4YimkJ",
        "outputId": "bb95b732-8634-472d-a6aa-3c67fc3bb022"
      },
      "execution_count": null,
      "outputs": [
        {
          "output_type": "display_data",
          "data": {
            "text/plain": [
              "<IPython.core.display.Javascript object>"
            ],
            "application/javascript": [
              "\n",
              "    async function download(id, filename, size) {\n",
              "      if (!google.colab.kernel.accessAllowed) {\n",
              "        return;\n",
              "      }\n",
              "      const div = document.createElement('div');\n",
              "      const label = document.createElement('label');\n",
              "      label.textContent = `Downloading \"${filename}\": `;\n",
              "      div.appendChild(label);\n",
              "      const progress = document.createElement('progress');\n",
              "      progress.max = size;\n",
              "      div.appendChild(progress);\n",
              "      document.body.appendChild(div);\n",
              "\n",
              "      const buffers = [];\n",
              "      let downloaded = 0;\n",
              "\n",
              "      const channel = await google.colab.kernel.comms.open(id);\n",
              "      // Send a message to notify the kernel that we're ready.\n",
              "      channel.send({})\n",
              "\n",
              "      for await (const message of channel.messages) {\n",
              "        // Send a message to notify the kernel that we're ready.\n",
              "        channel.send({})\n",
              "        if (message.buffers) {\n",
              "          for (const buffer of message.buffers) {\n",
              "            buffers.push(buffer);\n",
              "            downloaded += buffer.byteLength;\n",
              "            progress.value = downloaded;\n",
              "          }\n",
              "        }\n",
              "      }\n",
              "      const blob = new Blob(buffers, {type: 'application/binary'});\n",
              "      const a = document.createElement('a');\n",
              "      a.href = window.URL.createObjectURL(blob);\n",
              "      a.download = filename;\n",
              "      div.appendChild(a);\n",
              "      a.click();\n",
              "      div.remove();\n",
              "    }\n",
              "  "
            ]
          },
          "metadata": {}
        },
        {
          "output_type": "display_data",
          "data": {
            "text/plain": [
              "<IPython.core.display.Javascript object>"
            ],
            "application/javascript": [
              "download(\"download_0397e616-e9a0-4eb8-be04-68656130f7bb\", \"Byculla_final.xlsx\", 2986092)"
            ]
          },
          "metadata": {}
        }
      ]
    }
  ]
}